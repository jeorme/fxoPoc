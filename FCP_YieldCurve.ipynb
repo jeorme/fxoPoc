{
 "cells": [
  {
   "cell_type": "markdown",
   "metadata": {},
   "source": [
    "# Import library"
   ]
  },
  {
   "cell_type": "code",
   "execution_count": 27,
   "metadata": {},
   "outputs": [],
   "source": [
    "import requests\n",
    "import json"
   ]
  },
  {
   "cell_type": "markdown",
   "metadata": {},
   "source": [
    "# Helper function for REST call : GET / PUT / POST /DELETE"
   ]
  },
  {
   "cell_type": "code",
   "execution_count": 28,
   "metadata": {},
   "outputs": [],
   "source": [
    "#helper\n",
    "def get(url):\n",
    "    \"\"\"REST CALL : GET\"\"\"\n",
    "    reponse = requests.get(url, verify=False)\n",
    "    if (reponse.ok):\n",
    "        val = reponse.json()\n",
    "    else:\n",
    "        status = reponse.raise_for_status()\n",
    "        val = \"error : \" + status\n",
    "    reponse.close()\n",
    "    return val\n",
    "\n",
    "\n",
    "def delete(url ):\n",
    "    \"\"\"REST CALL : DELETE\"\"\"\n",
    "    reponse = requests.delete(url,verify=False)\n",
    "    if (reponse.ok):\n",
    "        val = \"data deleted\"\n",
    "    else:\n",
    "        status = reponse.raise_for_status()\n",
    "        val = \"error : \" + status\n",
    "    reponse.close()\n",
    "    return val\n",
    "\n",
    "\n",
    "def put(url, json):\n",
    "    \"\"\"REST CALL : PUT\"\"\"\n",
    "    reponse = requests.put(url, json=json, verify=False)\n",
    "    if (reponse.ok):\n",
    "        val = \"build\"\n",
    "    else:\n",
    "        status = reponse.raise_for_status()\n",
    "        val = \"error : \" + status\n",
    "    reponse.close()\n",
    "    return val\n",
    "\n",
    "def post(url, json):\n",
    "    \"\"\"REST CALL : POST\"\"\"\n",
    "    reponse = requests.post(url, json=json, verify=False,headers={'Connection':'close'})\n",
    "    if(reponse.ok):\n",
    "        if(reponse.status_code==201):\n",
    "            val = reponse.headers._store['location'][1]\n",
    "        else:\n",
    "            val= reponse.json()\n",
    "    elif(reponse.status_code==400):\n",
    "        val= reponse.text\n",
    "    else:\n",
    "        status = reponse.raise_for_status()\n",
    "        val =  \"error : \" + status\n",
    "    reponse.close()\n",
    "    return val"
   ]
  },
  {
   "cell_type": "markdown",
   "metadata": {},
   "source": [
    "# URL LINK : SWAGGER FCC / FCP"
   ]
  },
  {
   "cell_type": "code",
   "execution_count": 29,
   "metadata": {},
   "outputs": [],
   "source": [
    "url_fcp_swagger = \"https://fr1pslcmf05:8770/api/\"\n",
    "## url to create currency static data\n",
    "fcp_yc_definition = url_fcp_swagger+\"pricing/Store/MarketData/YieldCurveDefinitions/\"\n",
    "fcp_yc_quote = url_fcp_swagger + \"pricing/Store/MarketData/YieldCurves/\"\n",
    "#marketset url\n",
    "fcp_marketData_set = url_fcp_swagger+\"pricing/marketDataSetIds\"\n"
   ]
  },
  {
   "cell_type": "markdown",
   "metadata": {},
   "source": [
    "# Push Yield Curve definition"
   ]
  },
  {
   "cell_type": "code",
   "execution_count": 30,
   "metadata": {},
   "outputs": [],
   "source": [
    "yc_definition = {\n",
    "    \"name\": \"EUR_TEST\",\n",
    "    \"currency\": \"EUR\",\n",
    "    \"switchDates\": [\n",
    "        0,\n",
    "        6\n",
    "        ],\n",
    "    \"interpolationVariables\": [\n",
    "        \"zeroCouponRate\",\n",
    "        \"discountFactor\",\n",
    "        \"zeroCouponRate\"\n",
    "        ],\n",
    "    \"interpolationMethods\": [\n",
    "        \"flat\",\n",
    "        \"linear\",\n",
    "        \"flat\"\n",
    "        ],\n",
    "    \"zeroCouponFormula\": \"exponential\",\n",
    "    \"zeroCouponBasis\": \"ACT/365.FIXED\"\n",
    "}\n"
   ]
  },
  {
   "cell_type": "code",
   "execution_count": 31,
   "metadata": {},
   "outputs": [
    {
     "name": "stderr",
     "output_type": "stream",
     "text": [
      "C:\\Users\\jerpetit\\AppData\\Local\\Continuum\\anaconda3\\lib\\site-packages\\urllib3\\connectionpool.py:847: InsecureRequestWarning: Unverified HTTPS request is being made. Adding certificate verification is strongly advised. See: https://urllib3.readthedocs.io/en/latest/advanced-usage.html#ssl-warnings\n",
      "  InsecureRequestWarning)\n"
     ]
    }
   ],
   "source": [
    "#We push the static currency into FCP store\n",
    "yc_def = post(url = fcp_yc_definition, json=yc_definition)"
   ]
  },
  {
   "cell_type": "code",
   "execution_count": 32,
   "metadata": {},
   "outputs": [
    {
     "name": "stdout",
     "output_type": "stream",
     "text": [
      "{'id': 'cdb3550690e3427e8f37abe390162d28', 'name': 'EUR_TEST', 'currency': 'EUR', 'switchDates': [0, 6], 'interpolationVariables': ['zeroCouponRate', 'discountFactor', 'zeroCouponRate'], 'interpolationMethods': ['flat', 'linear', 'flat'], 'zeroCouponFormula': 'exponential', 'zeroCouponBasis': 'ACT/365.FIXED'}\n"
     ]
    },
    {
     "name": "stderr",
     "output_type": "stream",
     "text": [
      "C:\\Users\\jerpetit\\AppData\\Local\\Continuum\\anaconda3\\lib\\site-packages\\urllib3\\connectionpool.py:847: InsecureRequestWarning: Unverified HTTPS request is being made. Adding certificate verification is strongly advised. See: https://urllib3.readthedocs.io/en/latest/advanced-usage.html#ssl-warnings\n",
      "  InsecureRequestWarning)\n"
     ]
    }
   ],
   "source": [
    "#Check the pair\n",
    "print(get(url=yc_def))"
   ]
  },
  {
   "cell_type": "markdown",
   "metadata": {},
   "source": [
    "# Create the Yield Curve"
   ]
  },
  {
   "cell_type": "code",
   "execution_count": 33,
   "metadata": {},
   "outputs": [
    {
     "name": "stdout",
     "output_type": "stream",
     "text": [
      "[{'id': 'id-Default', 'name': 'DEFAULT'}]\n"
     ]
    },
    {
     "name": "stderr",
     "output_type": "stream",
     "text": [
      "C:\\Users\\jerpetit\\AppData\\Local\\Continuum\\anaconda3\\lib\\site-packages\\urllib3\\connectionpool.py:847: InsecureRequestWarning: Unverified HTTPS request is being made. Adding certificate verification is strongly advised. See: https://urllib3.readthedocs.io/en/latest/advanced-usage.html#ssl-warnings\n",
      "  InsecureRequestWarning)\n"
     ]
    }
   ],
   "source": [
    "MD = get(url=fcp_marketData_set)\n",
    "print(MD)"
   ]
  },
  {
   "cell_type": "code",
   "execution_count": 34,
   "metadata": {},
   "outputs": [],
   "source": [
    "yc_DF = {\n",
    "    \"name\": \"EUR_TEST\",\n",
    "    \"date\": \"2012-02-06\",\n",
    "    \"marketSet\": \"DEFAULT\",\n",
    "    \"valuesType\": \"discountFactor\",\n",
    "    \"values\": {\n",
    "        \"2012-02-08\": 0.999800089973,\n",
    "        \"2012-03-12\": 0.9956852186623,\n",
    "        \"2012-05-10\": 0.9865951285774,\n",
    "        \"2012-08-10\": 0.9729177720202,\n",
    "        \"2013-02-07\": 0.9443724335959,\n",
    "        \"2015-02-09\": 0.8493570595195,\n",
    "        \"2017-02-07\": 0.7754530001423\n",
    "        }\n",
    "    }"
   ]
  },
  {
   "cell_type": "code",
   "execution_count": 35,
   "metadata": {},
   "outputs": [
    {
     "name": "stderr",
     "output_type": "stream",
     "text": [
      "C:\\Users\\jerpetit\\AppData\\Local\\Continuum\\anaconda3\\lib\\site-packages\\urllib3\\connectionpool.py:847: InsecureRequestWarning: Unverified HTTPS request is being made. Adding certificate verification is strongly advised. See: https://urllib3.readthedocs.io/en/latest/advanced-usage.html#ssl-warnings\n",
      "  InsecureRequestWarning)\n"
     ]
    }
   ],
   "source": [
    "yc = post(url = fcp_yc_quote,json=yc_DF)"
   ]
  },
  {
   "cell_type": "code",
   "execution_count": 36,
   "metadata": {},
   "outputs": [
    {
     "name": "stdout",
     "output_type": "stream",
     "text": [
      "{'name': 'EUR_TEST', 'date': '2012-02-06', 'marketSet': 'DEFAULT', 'valuesType': 'discountFactor', 'values': {'2012-02-08': 0.999800089973, '2012-03-12': 0.9956852186623, '2012-05-10': 0.9865951285774, '2012-08-10': 0.9729177720202, '2013-02-07': 0.9443724335959, '2015-02-09': 0.8493570595195, '2017-02-07': 0.7754530001423}, 'id': 'e41cc95b8de04e908e09f30525761ddc'}\n"
     ]
    },
    {
     "name": "stderr",
     "output_type": "stream",
     "text": [
      "C:\\Users\\jerpetit\\AppData\\Local\\Continuum\\anaconda3\\lib\\site-packages\\urllib3\\connectionpool.py:847: InsecureRequestWarning: Unverified HTTPS request is being made. Adding certificate verification is strongly advised. See: https://urllib3.readthedocs.io/en/latest/advanced-usage.html#ssl-warnings\n",
      "  InsecureRequestWarning)\n"
     ]
    }
   ],
   "source": [
    "print(get(url=yc))"
   ]
  },
  {
   "cell_type": "markdown",
   "metadata": {},
   "source": [
    "## Clean MarketData"
   ]
  },
  {
   "cell_type": "code",
   "execution_count": 37,
   "metadata": {},
   "outputs": [
    {
     "name": "stderr",
     "output_type": "stream",
     "text": [
      "C:\\Users\\jerpetit\\AppData\\Local\\Continuum\\anaconda3\\lib\\site-packages\\urllib3\\connectionpool.py:847: InsecureRequestWarning: Unverified HTTPS request is being made. Adding certificate verification is strongly advised. See: https://urllib3.readthedocs.io/en/latest/advanced-usage.html#ssl-warnings\n",
      "  InsecureRequestWarning)\n"
     ]
    },
    {
     "name": "stdout",
     "output_type": "stream",
     "text": [
      "data deleted\n",
      "data deleted\n"
     ]
    },
    {
     "name": "stderr",
     "output_type": "stream",
     "text": [
      "C:\\Users\\jerpetit\\AppData\\Local\\Continuum\\anaconda3\\lib\\site-packages\\urllib3\\connectionpool.py:847: InsecureRequestWarning: Unverified HTTPS request is being made. Adding certificate verification is strongly advised. See: https://urllib3.readthedocs.io/en/latest/advanced-usage.html#ssl-warnings\n",
      "  InsecureRequestWarning)\n"
     ]
    }
   ],
   "source": [
    "print(delete(url=yc_def))\n",
    "print(delete(url=yc))"
   ]
  },
  {
   "cell_type": "code",
   "execution_count": null,
   "metadata": {},
   "outputs": [],
   "source": []
  }
 ],
 "metadata": {
  "kernelspec": {
   "display_name": "Python 3",
   "language": "python",
   "name": "python3"
  },
  "language_info": {
   "codemirror_mode": {
    "name": "ipython",
    "version": 3
   },
   "file_extension": ".py",
   "mimetype": "text/x-python",
   "name": "python",
   "nbconvert_exporter": "python",
   "pygments_lexer": "ipython3",
   "version": "3.6.8"
  }
 },
 "nbformat": 4,
 "nbformat_minor": 2
}
