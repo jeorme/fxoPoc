{
 "cells": [
  {
   "cell_type": "markdown",
   "metadata": {},
   "source": [
    "# Import library"
   ]
  },
  {
   "cell_type": "code",
   "execution_count": 130,
   "metadata": {},
   "outputs": [],
   "source": [
    "import requests\n",
    "import json"
   ]
  },
  {
   "cell_type": "markdown",
   "metadata": {},
   "source": [
    "# Helper function for REST call : GET / PUT / POST /DELETE"
   ]
  },
  {
   "cell_type": "code",
   "execution_count": 131,
   "metadata": {},
   "outputs": [],
   "source": [
    "#helper\n",
    "def get(url):\n",
    "    \"\"\"REST CALL : GET\"\"\"\n",
    "    reponse = requests.get(url, verify=False)\n",
    "    if (reponse.ok):\n",
    "        val = reponse.json()\n",
    "    else:\n",
    "        status = reponse.raise_for_status()\n",
    "        val = \"error : \" + status\n",
    "    reponse.close()\n",
    "    return val\n",
    "\n",
    "\n",
    "def delete(url ):\n",
    "    \"\"\"REST CALL : DELETE\"\"\"\n",
    "    reponse = requests.delete(url,verify=False)\n",
    "    if (reponse.ok):\n",
    "        val = \"data deleted\"\n",
    "    else:\n",
    "        status = reponse.raise_for_status()\n",
    "        val = \"error : \" + status\n",
    "    reponse.close()\n",
    "    return val\n",
    "\n",
    "\n",
    "def put(url, json):\n",
    "    \"\"\"REST CALL : PUT\"\"\"\n",
    "    reponse = requests.put(url, json=json, verify=False)\n",
    "    if (reponse.ok):\n",
    "        val = \"build\"\n",
    "    else:\n",
    "        status = reponse.raise_for_status()\n",
    "        val = \"error : \" + status\n",
    "    reponse.close()\n",
    "    return val\n",
    "\n",
    "def post(url, json):\n",
    "    \"\"\"REST CALL : POST\"\"\"\n",
    "    reponse = requests.post(url, json=json, verify=False,headers={'Connection':'close'})\n",
    "    if(reponse.ok):\n",
    "        if(reponse.status_code==201):\n",
    "            val = reponse.headers._store['location'][1]\n",
    "        else:\n",
    "            val= reponse.json()\n",
    "    elif(reponse.status_code==400):\n",
    "        val= reponse.text\n",
    "    else:\n",
    "        status = reponse.raise_for_status()\n",
    "        val =  \"error : \" + status\n",
    "    reponse.close()\n",
    "    return val"
   ]
  },
  {
   "cell_type": "markdown",
   "metadata": {},
   "source": [
    "# URL LINK : SWAGGER FCC / FCP"
   ]
  },
  {
   "cell_type": "code",
   "execution_count": 132,
   "metadata": {},
   "outputs": [],
   "source": [
    "url_fcp_swagger = \"https://fr1pslcmf05:8770/api/\"\n",
    "## url to create currency static data\n",
    "fcp_currency_static = url_fcp_swagger+\"pricing/Store/StaticData/Currencies/\"\n",
    "fcp_CurrencyPair = url_fcp_swagger+\"pricing/Store/StaticData/CurrencyPairs/\"\n",
    "#url to push the Fx rate to the store\n",
    "fcp_fxPair = url_fcp_swagger+\"pricing/Store/MarketData/FxRates\"\n",
    "#url for marketdata set\n",
    "fcp_marketData_set = url_fcp_swagger+\"pricing/marketDataSetIds\""
   ]
  },
  {
   "cell_type": "markdown",
   "metadata": {},
   "source": [
    "# Push FX Pair into FCP"
   ]
  },
  {
   "cell_type": "markdown",
   "metadata": {},
   "source": [
    "## Step 1 : push Static data"
   ]
  },
  {
   "cell_type": "code",
   "execution_count": 133,
   "metadata": {},
   "outputs": [],
   "source": [
    "currency_dom = { 'id': '$DOM', 'isoCode': 'DOM'}\n",
    "currency_for = {'id' : '$FOR', 'isoCode' : 'FOR'}\n"
   ]
  },
  {
   "cell_type": "code",
   "execution_count": 134,
   "metadata": {},
   "outputs": [
    {
     "name": "stderr",
     "output_type": "stream",
     "text": [
      "C:\\Users\\jerpetit\\AppData\\Local\\Continuum\\anaconda3\\lib\\site-packages\\urllib3\\connectionpool.py:858: InsecureRequestWarning: Unverified HTTPS request is being made. Adding certificate verification is strongly advised. See: https://urllib3.readthedocs.io/en/latest/advanced-usage.html#ssl-warnings\n",
      "  InsecureRequestWarning)\n",
      "C:\\Users\\jerpetit\\AppData\\Local\\Continuum\\anaconda3\\lib\\site-packages\\urllib3\\connectionpool.py:858: InsecureRequestWarning: Unverified HTTPS request is being made. Adding certificate verification is strongly advised. See: https://urllib3.readthedocs.io/en/latest/advanced-usage.html#ssl-warnings\n",
      "  InsecureRequestWarning)\n"
     ]
    }
   ],
   "source": [
    "#We push the static currency into FCP store\n",
    "answer_dom = post(url = fcp_currency_static, json=currency_dom)\n",
    "answer_for = post(url=fcp_currency_static,json=currency_for)"
   ]
  },
  {
   "cell_type": "code",
   "execution_count": 135,
   "metadata": {},
   "outputs": [
    {
     "name": "stdout",
     "output_type": "stream",
     "text": [
      "{'id': '$DOM', 'isoCode': 'DOM'}\n",
      "{'id': '$FOR', 'isoCode': 'FOR'}\n"
     ]
    },
    {
     "name": "stderr",
     "output_type": "stream",
     "text": [
      "C:\\Users\\jerpetit\\AppData\\Local\\Continuum\\anaconda3\\lib\\site-packages\\urllib3\\connectionpool.py:858: InsecureRequestWarning: Unverified HTTPS request is being made. Adding certificate verification is strongly advised. See: https://urllib3.readthedocs.io/en/latest/advanced-usage.html#ssl-warnings\n",
      "  InsecureRequestWarning)\n",
      "C:\\Users\\jerpetit\\AppData\\Local\\Continuum\\anaconda3\\lib\\site-packages\\urllib3\\connectionpool.py:858: InsecureRequestWarning: Unverified HTTPS request is being made. Adding certificate verification is strongly advised. See: https://urllib3.readthedocs.io/en/latest/advanced-usage.html#ssl-warnings\n",
      "  InsecureRequestWarning)\n"
     ]
    }
   ],
   "source": [
    "#Check the pair\n",
    "print(get(url=fcp_currency_static+\"$DOM\"))\n",
    "print(get(url=fcp_currency_static+\"$FOR\"))"
   ]
  },
  {
   "cell_type": "markdown",
   "metadata": {},
   "source": [
    "## Step 2 push the pair (static data)"
   ]
  },
  {
   "cell_type": "code",
   "execution_count": 136,
   "metadata": {},
   "outputs": [],
   "source": [
    "input_forDom =  {\"currency1\" : \"FOR\",\"currency2\" : \"DOM\", \"id\":\"$FOR/$DOM\" , \"name\": \"FOR/DOM\", \"spotLag\" : 0}"
   ]
  },
  {
   "cell_type": "markdown",
   "metadata": {},
   "source": [
    "answer_pair = post(url = fcp_CurrencyPair,  json=input)"
   ]
  },
  {
   "cell_type": "code",
   "execution_count": 137,
   "metadata": {},
   "outputs": [
    {
     "name": "stdout",
     "output_type": "stream",
     "text": [
      "{'id': '$FOR/$DOM', 'name': 'FOR/DOM', 'currency1': 'FOR', 'currency2': 'DOM', 'spotLag': 0}\n"
     ]
    },
    {
     "name": "stderr",
     "output_type": "stream",
     "text": [
      "C:\\Users\\jerpetit\\AppData\\Local\\Continuum\\anaconda3\\lib\\site-packages\\urllib3\\connectionpool.py:858: InsecureRequestWarning: Unverified HTTPS request is being made. Adding certificate verification is strongly advised. See: https://urllib3.readthedocs.io/en/latest/advanced-usage.html#ssl-warnings\n",
      "  InsecureRequestWarning)\n"
     ]
    }
   ],
   "source": [
    "#check the pair\n",
    "print(get(url=fcp_CurrencyPair+'$FOR/$DOM'))"
   ]
  },
  {
   "cell_type": "markdown",
   "metadata": {},
   "source": [
    "# Create the FX Pair marketData"
   ]
  },
  {
   "cell_type": "markdown",
   "metadata": {},
   "source": [
    "## Step 1 : get the marketData Set (only a GET so far)"
   ]
  },
  {
   "cell_type": "code",
   "execution_count": 138,
   "metadata": {},
   "outputs": [
    {
     "name": "stdout",
     "output_type": "stream",
     "text": [
      "[{'id': 'id-Default', 'name': 'DEFAULT'}]\n"
     ]
    },
    {
     "name": "stderr",
     "output_type": "stream",
     "text": [
      "C:\\Users\\jerpetit\\AppData\\Local\\Continuum\\anaconda3\\lib\\site-packages\\urllib3\\connectionpool.py:858: InsecureRequestWarning: Unverified HTTPS request is being made. Adding certificate verification is strongly advised. See: https://urllib3.readthedocs.io/en/latest/advanced-usage.html#ssl-warnings\n",
      "  InsecureRequestWarning)\n"
     ]
    }
   ],
   "source": [
    "MD = get(url=fcp_marketData_set)\n",
    "print(MD)"
   ]
  },
  {
   "cell_type": "markdown",
   "metadata": {},
   "source": [
    "## Step 2 push the FX Pair"
   ]
  },
  {
   "cell_type": "code",
   "execution_count": 139,
   "metadata": {},
   "outputs": [
    {
     "name": "stderr",
     "output_type": "stream",
     "text": [
      "C:\\Users\\jerpetit\\AppData\\Local\\Continuum\\anaconda3\\lib\\site-packages\\urllib3\\connectionpool.py:858: InsecureRequestWarning: Unverified HTTPS request is being made. Adding certificate verification is strongly advised. See: https://urllib3.readthedocs.io/en/latest/advanced-usage.html#ssl-warnings\n",
      "  InsecureRequestWarning)\n"
     ]
    }
   ],
   "source": [
    "fxPair = {\n",
    "  \"date\": \"2019-03-19\",\n",
    "  \"marketSet\": \"DEFAULT\",\n",
    "  \"name\": \"FOR/DOM\",\n",
    "  \"value\": 1.12\n",
    "}\n",
    "url_output = post(url = fcp_fxPair, json=fxPair)"
   ]
  },
  {
   "cell_type": "code",
   "execution_count": 140,
   "metadata": {},
   "outputs": [
    {
     "name": "stdout",
     "output_type": "stream",
     "text": [
      "{'date': '2019-03-19', 'marketSet': 'DEFAULT', 'name': 'FOR/DOM', 'value': 1.12, 'id': 'c3a9b30469e84889bb76db4d7d736888'}\n"
     ]
    },
    {
     "name": "stderr",
     "output_type": "stream",
     "text": [
      "C:\\Users\\jerpetit\\AppData\\Local\\Continuum\\anaconda3\\lib\\site-packages\\urllib3\\connectionpool.py:858: InsecureRequestWarning: Unverified HTTPS request is being made. Adding certificate verification is strongly advised. See: https://urllib3.readthedocs.io/en/latest/advanced-usage.html#ssl-warnings\n",
      "  InsecureRequestWarning)\n"
     ]
    }
   ],
   "source": [
    "#check the fx pair\n",
    "print(get(url=url_output))"
   ]
  },
  {
   "cell_type": "markdown",
   "metadata": {},
   "source": [
    "## Clean MarketData"
   ]
  },
  {
   "cell_type": "code",
   "execution_count": 141,
   "metadata": {},
   "outputs": [
    {
     "name": "stdout",
     "output_type": "stream",
     "text": [
      "currency deleted\n",
      "currency deleted\n",
      "currency deleted\n",
      "currency deleted\n"
     ]
    },
    {
     "name": "stderr",
     "output_type": "stream",
     "text": [
      "C:\\Users\\jerpetit\\AppData\\Local\\Continuum\\anaconda3\\lib\\site-packages\\urllib3\\connectionpool.py:858: InsecureRequestWarning: Unverified HTTPS request is being made. Adding certificate verification is strongly advised. See: https://urllib3.readthedocs.io/en/latest/advanced-usage.html#ssl-warnings\n",
      "  InsecureRequestWarning)\n",
      "C:\\Users\\jerpetit\\AppData\\Local\\Continuum\\anaconda3\\lib\\site-packages\\urllib3\\connectionpool.py:858: InsecureRequestWarning: Unverified HTTPS request is being made. Adding certificate verification is strongly advised. See: https://urllib3.readthedocs.io/en/latest/advanced-usage.html#ssl-warnings\n",
      "  InsecureRequestWarning)\n",
      "C:\\Users\\jerpetit\\AppData\\Local\\Continuum\\anaconda3\\lib\\site-packages\\urllib3\\connectionpool.py:858: InsecureRequestWarning: Unverified HTTPS request is being made. Adding certificate verification is strongly advised. See: https://urllib3.readthedocs.io/en/latest/advanced-usage.html#ssl-warnings\n",
      "  InsecureRequestWarning)\n",
      "C:\\Users\\jerpetit\\AppData\\Local\\Continuum\\anaconda3\\lib\\site-packages\\urllib3\\connectionpool.py:858: InsecureRequestWarning: Unverified HTTPS request is being made. Adding certificate verification is strongly advised. See: https://urllib3.readthedocs.io/en/latest/advanced-usage.html#ssl-warnings\n",
      "  InsecureRequestWarning)\n"
     ]
    }
   ],
   "source": [
    "print(delete(url=fcp_CurrencyPair+'$FOR/$DOM'))\n",
    "print(delete(url=fcp_currency_static+\"$DOM\"))\n",
    "print(delete(url=fcp_currency_static+\"$FOR\"))\n",
    "print(delete(url=url_output))"
   ]
  },
  {
   "cell_type": "code",
   "execution_count": null,
   "metadata": {},
   "outputs": [],
   "source": []
  }
 ],
 "metadata": {
  "kernelspec": {
   "display_name": "Python 3",
   "language": "python",
   "name": "python3"
  },
  "language_info": {
   "codemirror_mode": {
    "name": "ipython",
    "version": 3
   },
   "file_extension": ".py",
   "mimetype": "text/x-python",
   "name": "python",
   "nbconvert_exporter": "python",
   "pygments_lexer": "ipython3",
   "version": "3.6.4"
  }
 },
 "nbformat": 4,
 "nbformat_minor": 2
}
