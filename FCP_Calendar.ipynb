{
 "cells": [
  {
   "cell_type": "markdown",
   "metadata": {},
   "source": [
    "# Import library"
   ]
  },
  {
   "cell_type": "code",
   "execution_count": 7,
   "metadata": {},
   "outputs": [],
   "source": [
    "import requests\n",
    "import json"
   ]
  },
  {
   "cell_type": "markdown",
   "metadata": {},
   "source": [
    "# Helper function for REST call : GET / PUT / POST /DELETE"
   ]
  },
  {
   "cell_type": "code",
   "execution_count": 8,
   "metadata": {},
   "outputs": [],
   "source": [
    "#helper\n",
    "def get(url):\n",
    "    \"\"\"REST CALL : GET\"\"\"\n",
    "    reponse = requests.get(url, verify=False)\n",
    "    if (reponse.ok):\n",
    "        val = reponse.json()\n",
    "    else:\n",
    "        status = reponse.raise_for_status()\n",
    "        val = \"error : \" + status\n",
    "    reponse.close()\n",
    "    return val\n",
    "\n",
    "\n",
    "def delete(url ):\n",
    "    \"\"\"REST CALL : DELETE\"\"\"\n",
    "    reponse = requests.delete(url,verify=False)\n",
    "    if (reponse.ok):\n",
    "        val = \"data deleted\"\n",
    "    else:\n",
    "        status = reponse.raise_for_status()\n",
    "        val = \"error : \" + status\n",
    "    reponse.close()\n",
    "    return val\n",
    "\n",
    "\n",
    "def put(url, json):\n",
    "    \"\"\"REST CALL : PUT\"\"\"\n",
    "    reponse = requests.put(url, json=json, verify=False)\n",
    "    if (reponse.ok):\n",
    "        val = \"build\"\n",
    "    else:\n",
    "        status = reponse.raise_for_status()\n",
    "        val = \"error : \" + status\n",
    "    reponse.close()\n",
    "    return val\n",
    "\n",
    "def post(url, json):\n",
    "    \"\"\"REST CALL : POST\"\"\"\n",
    "    reponse = requests.post(url, json=json, verify=False,headers={'Connection':'close'})\n",
    "    if(reponse.ok):\n",
    "        if(reponse.status_code==201):\n",
    "            val = reponse.headers._store['location'][1]\n",
    "        else:\n",
    "            val= reponse.json()\n",
    "    elif(reponse.status_code==400):\n",
    "        val= reponse.text\n",
    "    else:\n",
    "        status = reponse.raise_for_status()\n",
    "        val =  \"error : \" + status\n",
    "    reponse.close()\n",
    "    return val"
   ]
  },
  {
   "cell_type": "markdown",
   "metadata": {},
   "source": [
    "# URL LINK : SWAGGER FCC / FCP"
   ]
  },
  {
   "cell_type": "code",
   "execution_count": 9,
   "metadata": {},
   "outputs": [],
   "source": [
    "url_fcp_swagger = \"https://fr1pslcmf05:8770/api/\"\n",
    "## url to create currency static data\n",
    "\n",
    "fc_business_center = url_fcp_swagger+\"pricing/Store/StaticData/BusinessCenters/\""
   ]
  },
  {
   "cell_type": "markdown",
   "metadata": {},
   "source": [
    "# Push Calendar into FCP"
   ]
  },
  {
   "cell_type": "code",
   "execution_count": 10,
   "metadata": {},
   "outputs": [],
   "source": [
    "calendar_test = {\n",
    "  \"id\": \"$id/TEST\",\n",
    "  \"name\": \"TEST\",\n",
    "  \"fixedHolidays\": [\n",
    "    \"--01-01\",\n",
    "    \"--05-01\",\n",
    "    \"--05-21\",\n",
    "    \"--07-16\",\n",
    "    \"--08-15\",\n",
    "    \"--09-18\",\n",
    "    \"--09-19\",\n",
    "    \"--11-01\",\n",
    "    \"--12-08\",\n",
    "    \"--12-25\"\n",
    "  ],\n",
    "  \"variableHolidays\": [],\n",
    "  \"weekHolidays\": [\n",
    "    \"SATURDAY\",\n",
    "    \"SUNDAY\"\n",
    "  ]\n",
    "}\n"
   ]
  },
  {
   "cell_type": "code",
   "execution_count": 12,
   "metadata": {},
   "outputs": [
    {
     "name": "stderr",
     "output_type": "stream",
     "text": [
      "C:\\Users\\jerpetit\\AppData\\Local\\Continuum\\anaconda3\\lib\\site-packages\\urllib3\\connectionpool.py:858: InsecureRequestWarning: Unverified HTTPS request is being made. Adding certificate verification is strongly advised. See: https://urllib3.readthedocs.io/en/latest/advanced-usage.html#ssl-warnings\n",
      "  InsecureRequestWarning)\n"
     ]
    }
   ],
   "source": [
    "#We push the static currency into FCP store\n",
    "calendar_value = post(url = fc_business_center,json=calendar_test)"
   ]
  },
  {
   "cell_type": "code",
   "execution_count": 14,
   "metadata": {},
   "outputs": [
    {
     "name": "stdout",
     "output_type": "stream",
     "text": [
      "{'id': '$id/TEST', 'name': 'TEST', 'fixedHolidays': ['--01-01', '--05-01', '--05-21', '--07-16', '--08-15', '--09-18', '--09-19', '--11-01', '--12-08', '--12-25'], 'variableHolidays': [], 'weekHolidays': ['SATURDAY', 'SUNDAY']}\n"
     ]
    },
    {
     "name": "stderr",
     "output_type": "stream",
     "text": [
      "C:\\Users\\jerpetit\\AppData\\Local\\Continuum\\anaconda3\\lib\\site-packages\\urllib3\\connectionpool.py:858: InsecureRequestWarning: Unverified HTTPS request is being made. Adding certificate verification is strongly advised. See: https://urllib3.readthedocs.io/en/latest/advanced-usage.html#ssl-warnings\n",
      "  InsecureRequestWarning)\n"
     ]
    }
   ],
   "source": [
    "#Check the pair\n",
    "print(get(url=calendar_value))"
   ]
  },
  {
   "cell_type": "markdown",
   "metadata": {},
   "source": [
    "# Push Calendar into FCC"
   ]
  },
  {
   "cell_type": "code",
   "execution_count": null,
   "metadata": {},
   "outputs": [],
   "source": [
    "calendar_test = {\n",
    "  \"id\": \"$id/TEST\",\n",
    "  \"name\": \"TEST\",\n",
    "  \"fixedHolidays\": [\n",
    "    \"--01-01\",\n",
    "    \"--05-01\",\n",
    "    \"--05-21\",\n",
    "    \"--07-16\",\n",
    "    \"--08-15\",\n",
    "    \"--09-18\",\n",
    "    \"--09-19\",\n",
    "    \"--11-01\",\n",
    "    \"--12-08\",\n",
    "    \"--12-25\"\n",
    "  ],\n",
    "  \"variableHolidays\": [],\n",
    "  \"weekHolidays\": [\n",
    "    \"SATURDAY\",\n",
    "    \"SUNDAY\"\n",
    "  ]\n",
    "}"
   ]
  },
  {
   "cell_type": "code",
   "execution_count": null,
   "metadata": {},
   "outputs": [],
   "source": [
    "calendar_fcc = {\n",
    "    \"body\": [\n",
    "        {           \n",
    "            \"DisplayName\": \"test\",\n",
    "            \"HolidayList\": [\n",
    "                {\n",
    "                    \"Holidays\": \"01 JAN\"\n",
    "                },\n",
    "                {\n",
    "                    \"Holidays\": \"1995-09-04\"\n",
    "                }\n",
    "            ],           \n",
    "            \"NonWorkingDaysOfWeek\": [\n",
    "                {\n",
    "                    \"NonWorkingDays\": \"SAT\"\n",
    "                },\n",
    "                {\n",
    "                    \"NonWorkingDays\": \"SUN\"\n",
    "                }\n",
    "            ]\n",
    "        }\n",
    "    ],\n",
    "    \"cube\": [\n",
    "        \"businesscenter\"\n",
    "    ],\n",
    "    \"isStandAlone\": true,\n",
    "    \"primary\": [\n",
    "        \"DisplayName\"\n",
    "    ],\n",
    "    \"primaryKeyAttribute\": \"name\",\n",
    "    \"stereotype\": [\n",
    "        \"sdsbusinesscenter-current\"\n",
    "    ]\n",
    "}"
   ]
  },
  {
   "cell_type": "markdown",
   "metadata": {},
   "source": [
    "## Clean MarketData"
   ]
  },
  {
   "cell_type": "code",
   "execution_count": 15,
   "metadata": {},
   "outputs": [
    {
     "name": "stdout",
     "output_type": "stream",
     "text": [
      "data deleted\n"
     ]
    },
    {
     "name": "stderr",
     "output_type": "stream",
     "text": [
      "C:\\Users\\jerpetit\\AppData\\Local\\Continuum\\anaconda3\\lib\\site-packages\\urllib3\\connectionpool.py:858: InsecureRequestWarning: Unverified HTTPS request is being made. Adding certificate verification is strongly advised. See: https://urllib3.readthedocs.io/en/latest/advanced-usage.html#ssl-warnings\n",
      "  InsecureRequestWarning)\n"
     ]
    }
   ],
   "source": [
    "print(delete(url=calendar_value))"
   ]
  },
  {
   "cell_type": "code",
   "execution_count": null,
   "metadata": {},
   "outputs": [],
   "source": []
  }
 ],
 "metadata": {
  "kernelspec": {
   "display_name": "Python 3",
   "language": "python",
   "name": "python3"
  },
  "language_info": {
   "codemirror_mode": {
    "name": "ipython",
    "version": 3
   },
   "file_extension": ".py",
   "mimetype": "text/x-python",
   "name": "python",
   "nbconvert_exporter": "python",
   "pygments_lexer": "ipython3",
   "version": "3.6.4"
  }
 },
 "nbformat": 4,
 "nbformat_minor": 2
}
