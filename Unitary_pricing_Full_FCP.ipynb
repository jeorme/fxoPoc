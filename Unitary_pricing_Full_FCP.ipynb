{
 "cells": [
  {
   "cell_type": "markdown",
   "metadata": {},
   "source": [
    "# Import library"
   ]
  },
  {
   "cell_type": "code",
   "execution_count": 34,
   "metadata": {},
   "outputs": [],
   "source": [
    "import requests\n",
    "import json\n",
    "import pandas as pd\n",
    "import numpy as np"
   ]
  },
  {
   "cell_type": "markdown",
   "metadata": {},
   "source": [
    "# Helper function for REST call : GET / PUT / POST /DELETE"
   ]
  },
  {
   "cell_type": "code",
   "execution_count": 76,
   "metadata": {},
   "outputs": [],
   "source": [
    "import requests\n",
    "import json\n",
    "import pandas as pd\n",
    "#helper\n",
    "def get(url):\n",
    "    \"\"\"REST CALL : GET\"\"\"\n",
    "    reponse = requests.get(url, verify=False)\n",
    "    if (reponse.ok):\n",
    "        val = reponse.json()\n",
    "    else:\n",
    "        status = reponse.raise_for_status()\n",
    "        val = \"error : \" + status\n",
    "    reponse.close()\n",
    "    return val\n",
    "\n",
    "\n",
    "def delete(url ):\n",
    "    \"\"\"REST CALL : DELETE\"\"\"\n",
    "    reponse = requests.delete(url,verify=False)\n",
    "    if (reponse.ok):\n",
    "        val = \"data deleted\"\n",
    "    else:\n",
    "        status = reponse.raise_for_status()\n",
    "        val = \"error : \" + status\n",
    "    reponse.close()\n",
    "    return val\n",
    "\n",
    "\n",
    "def put(url, json):\n",
    "    \"\"\"REST CALL : PUT\"\"\"\n",
    "    reponse = requests.put(url, json=json, verify=False)\n",
    "    if (reponse.ok):\n",
    "        val = \"build\"\n",
    "    else:\n",
    "        status = reponse.raise_for_status()\n",
    "        val = \"error : \" + status\n",
    "    reponse.close()\n",
    "    return val\n",
    "\n",
    "def post(url, json,isCsv=False):\n",
    "    \"\"\"REST CALL : POST\"\"\"\n",
    "    reponse = requests.post(url, json=json, verify=False,headers={'Connection':'close'})\n",
    "    valPD = pd.DataFrame(columns=['id',\"npv\"])\n",
    "    if(reponse.ok):\n",
    "        if(reponse.status_code==201):\n",
    "            val = reponse.headers._store['location'][1]\n",
    "        else:\n",
    "            if isCsv:\n",
    "                lines = reponse.text.splitlines()\n",
    "                val=[]\n",
    "                ids=[]\n",
    "                npvs=[]\n",
    "                for item in range(1,len(lines)):\n",
    "                    id,npv = lines[item].split(\";\")\n",
    "                    val.append({\"id\" : id,\"npv\" : npv})\n",
    "                    ids.append(id)\n",
    "                    npvs.append(npv)\n",
    "                valPD[\"id\"]=ids\n",
    "                valPD[\"npv\"] = npvs\n",
    "            else:\n",
    "                val = reponse.json()\n",
    "    elif(reponse.status_code==400):\n",
    "        val= reponse.text\n",
    "    else:\n",
    "        status = reponse.raise_for_status()\n",
    "        val =  \"error : \" + status\n",
    "    reponse.close()\n",
    "    return val , valPD\n",
    "\n"
   ]
  },
  {
   "cell_type": "code",
   "execution_count": 82,
   "metadata": {},
   "outputs": [],
   "source": [
    "url_fcp_swagger = \"https://fr1pslcmf05:8770/api/\"\n",
    "url_pricing_config = \"https://fr1pslcmf05:8770/api/pricing/configs\"\n",
    "url_result_handler =\"https://fr1pslcmf05:8770/api/pricing/report/result/Pricing\"\n",
    "\n",
    "def unitary(configName,aod,pricingMethod,marketDataSetId,resultHandlerId,referenceCurrency,resultHandlerConfigId,marketDataProviderId,perimeter,scenarioContexts):\n",
    "    unitary_price = {}\n",
    "    unitary_price[\"asOfDate\"] = aod\n",
    "    unitary_price[\"referenceCurrency\"] = referenceCurrency     \n",
    "    unitary_price[\"pricingMethod\"] = pricingMethod\n",
    "    unitary_price[\"marketDataSetId\"] = marketDataSetId\n",
    "    unitary_price[\"resultHandlerId\"] = resultHandlerId\n",
    "    unitary_price[\"resultHandlerConfigId\"] = resultHandlerConfigId\n",
    "    unitary_price[\"marketDataProviderId\"] = marketDataProviderId    \n",
    "    unitary_price[\"pricingConfigId\"] = getPricingId(configName)\n",
    "    unitary_price[\"perimeter\"] = {\"trade\" : {\"ids\": [\"FXOptionVanilla_1\"]}}\n",
    "    unitary_price[\"scenarioContexts\"] = scenarioContexts\n",
    "    url_price = url_fcp_swagger + \"pricing/price/\"\n",
    "    post(url=url_price, json=unitary_price)\n",
    "    return getResult()\n",
    "\n",
    "def getResult(id=\"Pricing\",dimensions=\"Id\",measures=\"base_NPV\"):\n",
    "    url=\"https://fr1pslcmf05:8770/api/pricing/report/result/\"+id\n",
    "    resultHandler={}\n",
    "    resultHandler[\"dimensions\"]= [dimensions]\n",
    "    resultHandler[\"measures\"]= [measures]\n",
    "    return post(url,json=resultHandler,isCsv=True)\n",
    "\n",
    "scenarioContexts =[\n",
    "\n",
    "    {\n",
    "      \"id\": \"base\",\n",
    "      \"measureGroupIds\": [\n",
    "        \"NPV\"\n",
    "      ]\n",
    "    }\n",
    "\n",
    "]\n",
    "\n",
    "def getPricingId(configName):\n",
    "    urlConfig = \"https://fr1pslcmf05:8770/api/pricing/configs\"\n",
    "    config = get(urlConfig)\n",
    "    for item in config:\n",
    "        if (item['name']==configName):\n",
    "            return item[\"id\"]\n",
    "    return \"error\""
   ]
  },
  {
   "cell_type": "markdown",
   "metadata": {},
   "source": [
    "# NPV use case"
   ]
  },
  {
   "cell_type": "code",
   "execution_count": 87,
   "metadata": {},
   "outputs": [
    {
     "name": "stderr",
     "output_type": "stream",
     "text": [
      "C:\\Users\\jerom\\Anaconda3\\lib\\site-packages\\urllib3\\connectionpool.py:847: InsecureRequestWarning: Unverified HTTPS request is being made. Adding certificate verification is strongly advised. See: https://urllib3.readthedocs.io/en/latest/advanced-usage.html#ssl-warnings\n",
      "  InsecureRequestWarning)\n",
      "C:\\Users\\jerom\\Anaconda3\\lib\\site-packages\\urllib3\\connectionpool.py:847: InsecureRequestWarning: Unverified HTTPS request is being made. Adding certificate verification is strongly advised. See: https://urllib3.readthedocs.io/en/latest/advanced-usage.html#ssl-warnings\n",
      "  InsecureRequestWarning)\n",
      "C:\\Users\\jerom\\Anaconda3\\lib\\site-packages\\urllib3\\connectionpool.py:847: InsecureRequestWarning: Unverified HTTPS request is being made. Adding certificate verification is strongly advised. See: https://urllib3.readthedocs.io/en/latest/advanced-usage.html#ssl-warnings\n",
      "  InsecureRequestWarning)\n"
     ]
    }
   ],
   "source": [
    "resultJson, resultPD = unitary(configName=\"DEFAULT\",aod=\"2016-07-04\",pricingMethod=\"THEORETICAL\",marketDataSetId=\"$id/DEFAULT\",referenceCurrency=\"$id/USD\",marketDataProviderId=\"PE_STORE_MDP\",resultHandlerConfigId=\"Default\",perimeter=\"ALL_FX_OPTION\", scenarioContexts = scenarioContexts,resultHandlerId=\"Report\")"
   ]
  },
  {
   "cell_type": "code",
   "execution_count": 88,
   "metadata": {},
   "outputs": [
    {
     "data": {
      "text/html": [
       "<div>\n",
       "<style scoped>\n",
       "    .dataframe tbody tr th:only-of-type {\n",
       "        vertical-align: middle;\n",
       "    }\n",
       "\n",
       "    .dataframe tbody tr th {\n",
       "        vertical-align: top;\n",
       "    }\n",
       "\n",
       "    .dataframe thead th {\n",
       "        text-align: right;\n",
       "    }\n",
       "</style>\n",
       "<table border=\"1\" class=\"dataframe\">\n",
       "  <thead>\n",
       "    <tr style=\"text-align: right;\">\n",
       "      <th></th>\n",
       "      <th>id</th>\n",
       "      <th>npv</th>\n",
       "    </tr>\n",
       "  </thead>\n",
       "  <tbody>\n",
       "    <tr>\n",
       "      <th>0</th>\n",
       "      <td>FXOptionVanilla_1</td>\n",
       "      <td>-6.847514388329348E-13</td>\n",
       "    </tr>\n",
       "  </tbody>\n",
       "</table>\n",
       "</div>"
      ],
      "text/plain": [
       "                  id                     npv\n",
       "0  FXOptionVanilla_1  -6.847514388329348E-13"
      ]
     },
     "execution_count": 88,
     "metadata": {},
     "output_type": "execute_result"
    }
   ],
   "source": [
    "resultPD"
   ]
  },
  {
   "cell_type": "markdown",
   "metadata": {},
   "source": [
    "# NPV FOR ONE TRADE"
   ]
  },
  {
   "cell_type": "code",
   "execution_count": null,
   "metadata": {},
   "outputs": [],
   "source": []
  }
 ],
 "metadata": {
  "kernelspec": {
   "display_name": "Python 3",
   "language": "python",
   "name": "python3"
  },
  "language_info": {
   "codemirror_mode": {
    "name": "ipython",
    "version": 3
   },
   "file_extension": ".py",
   "mimetype": "text/x-python",
   "name": "python",
   "nbconvert_exporter": "python",
   "pygments_lexer": "ipython3",
   "version": "3.6.8"
  }
 },
 "nbformat": 4,
 "nbformat_minor": 2
}
