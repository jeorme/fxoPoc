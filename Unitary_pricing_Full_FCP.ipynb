{
 "cells": [
  {
   "cell_type": "markdown",
   "metadata": {},
   "source": [
    "# Import library"
   ]
  },
  {
   "cell_type": "code",
   "execution_count": 98,
   "metadata": {},
   "outputs": [],
   "source": [
    "import requests\n",
    "import json\n",
    "import pandas as pd\n",
    "import numpy as np"
   ]
  },
  {
   "cell_type": "code",
   "execution_count": 102,
   "metadata": {},
   "outputs": [],
   "source": [
    "url_fcp_swagger = \"https://fr1pslcmf05:8770/api/\"\n",
    "url_pricing_config = \"https://fr1pslcmf05:8770/api/pricing/configs\"\n",
    "url_result_handler =\"https://fr1pslcmf05:8770/api/pricing/report/result/Pricing\""
   ]
  },
  {
   "cell_type": "markdown",
   "metadata": {},
   "source": [
    "# Helper function for REST call : GET / PUT / POST /DELETE"
   ]
  },
  {
   "cell_type": "code",
   "execution_count": 104,
   "metadata": {},
   "outputs": [],
   "source": [
    "#helper\n",
    "def get(url):\n",
    "    \"\"\"REST CALL : GET\"\"\"\n",
    "    reponse = requests.get(url, verify=False)\n",
    "    if (reponse.ok):\n",
    "        val = reponse.json()\n",
    "    else:\n",
    "        status = reponse.raise_for_status()\n",
    "        val = \"error : \" + status\n",
    "    reponse.close()\n",
    "    return val\n",
    "\n",
    "\n",
    "def delete(url ):\n",
    "    \"\"\"REST CALL : DELETE\"\"\"\n",
    "    reponse = requests.delete(url,verify=False)\n",
    "    if (reponse.ok):\n",
    "        val = \"data deleted\"\n",
    "    else:\n",
    "        status = reponse.raise_for_status()\n",
    "        val = \"error : \" + status\n",
    "    reponse.close()\n",
    "    return val\n",
    "\n",
    "\n",
    "def put(url, json):\n",
    "    \"\"\"REST CALL : PUT\"\"\"\n",
    "    reponse = requests.put(url, json=json, verify=False)\n",
    "    if (reponse.ok):\n",
    "        val = \"build\"\n",
    "    else:\n",
    "        status = reponse.raise_for_status()\n",
    "        val = \"error : \" + status\n",
    "    reponse.close()\n",
    "    return val\n",
    "\n",
    "def post(url, json,isCsv=False):\n",
    "    \"\"\"REST CALL : POST\"\"\"\n",
    "    reponse = requests.post(url, json=json, verify=False,headers={'Connection':'close'})\n",
    "    valPD = pd.DataFrame(columns=['id',\"npv\"])\n",
    "    if(reponse.ok):\n",
    "        if(reponse.status_code==201):\n",
    "            val = reponse.headers._store['location'][1]\n",
    "        else:\n",
    "            if isCsv:\n",
    "                lines = reponse.text.splitlines()\n",
    "                val=[]\n",
    "                ids=[]\n",
    "                npvs=[]\n",
    "                for item in range(1,len(lines)):\n",
    "                    id,npv = lines[item].split(\";\")\n",
    "                    val.append({\"id\" : id,\"npv\" : npv})\n",
    "                    ids.append(id)\n",
    "                    npvs.append(npv)\n",
    "                valPD[\"id\"]=ids\n",
    "                valPD[\"npv\"] = npvs\n",
    "            else:\n",
    "                val = reponse.json()\n",
    "    elif(reponse.status_code==400):\n",
    "        val= reponse.text\n",
    "    else:\n",
    "        status = reponse.raise_for_status()\n",
    "        val =  \"error : \" + status\n",
    "    reponse.close()\n",
    "    return val , valPD\n",
    "\n"
   ]
  },
  {
   "cell_type": "code",
   "execution_count": 107,
   "metadata": {},
   "outputs": [],
   "source": [
    "def unitary(configName,aod,pricingMethod,marketDataSetId,resultHandlerId,referenceCurrency,resultHandlerConfigId,marketDataProviderId,perimeter,scenarioContexts):\n",
    "    unitary_price = {}\n",
    "    unitary_price[\"asOfDate\"] = aod\n",
    "    unitary_price[\"referenceCurrency\"] = referenceCurrency     \n",
    "    unitary_price[\"pricingMethod\"] = pricingMethod\n",
    "    unitary_price[\"marketDataSetId\"] = marketDataSetId\n",
    "    unitary_price[\"resultHandlerId\"] = resultHandlerId\n",
    "    unitary_price[\"resultHandlerConfigId\"] = resultHandlerConfigId\n",
    "    unitary_price[\"marketDataProviderId\"] = marketDataProviderId    \n",
    "    unitary_price[\"pricingConfigId\"] = getPricingId(configName)\n",
    "    unitary_price[\"perimeter\"] = {\"trade\" : {\"ids\": [\"FXOptionVanilla_1\"]}}\n",
    "    unitary_price[\"scenarioContexts\"] = scenarioContexts\n",
    "    url_price = url_fcp_swagger + \"pricing/price/\"\n",
    "    reponse = post(url=url_price, json=unitary_price)\n",
    "    if resultHandlerConfigId is None:\n",
    "        dic = reponse[\"pricingResults\"]\n",
    "        val  = pd.DataFrame(columns=[\"id\",\"npv\"])\n",
    "        ids=[]\n",
    "        npvs=[]\n",
    "        for keys, values in dic.items():\n",
    "            ids.append(keys)\n",
    "            npvs.append(values[\"scenarios\"][0][\"entries\"][0][\"measures\"][\"NPV\"])\n",
    "        val[\"id\"] =ids\n",
    "        val[\"npv\"] = npvs\n",
    "        return dic,val\n",
    "    else:\n",
    "        return getResult()\n",
    "\n",
    "def getResult(id=\"Pricing\",dimensions=\"Id\",measures=\"base_NPV\"):\n",
    "    url=\"https://fr1pslcmf05:8770/api/pricing/report/result/\"+id\n",
    "    resultHandler={}\n",
    "    resultHandler[\"dimensions\"]= [dimensions]\n",
    "    resultHandler[\"measures\"]= [measures]\n",
    "    return post(url,json=resultHandler,isCsv=True)\n",
    "\n",
    "scenarioContexts =[\n",
    "\n",
    "    {\n",
    "      \"id\": \"base\",\n",
    "      \"measureGroupIds\": [\n",
    "        \"NPV\"\n",
    "      ]\n",
    "    }\n",
    "\n",
    "]\n",
    "\n",
    "def getPricingId(configName):\n",
    "    urlConfig = \"https://fr1pslcmf05:8770/api/pricing/configs\"\n",
    "    config = get(urlConfig)\n",
    "    for item in config:\n",
    "        if (item['name']==configName):\n",
    "            return item[\"id\"]\n",
    "    return \"error\""
   ]
  },
  {
   "cell_type": "markdown",
   "metadata": {},
   "source": [
    "# NPV use case"
   ]
  },
  {
   "cell_type": "code",
   "execution_count": 108,
   "metadata": {},
   "outputs": [
    {
     "name": "stderr",
     "output_type": "stream",
     "text": [
      "C:\\Users\\jerom\\Anaconda3\\lib\\site-packages\\urllib3\\connectionpool.py:847: InsecureRequestWarning: Unverified HTTPS request is being made. Adding certificate verification is strongly advised. See: https://urllib3.readthedocs.io/en/latest/advanced-usage.html#ssl-warnings\n",
      "  InsecureRequestWarning)\n",
      "C:\\Users\\jerom\\Anaconda3\\lib\\site-packages\\urllib3\\connectionpool.py:847: InsecureRequestWarning: Unverified HTTPS request is being made. Adding certificate verification is strongly advised. See: https://urllib3.readthedocs.io/en/latest/advanced-usage.html#ssl-warnings\n",
      "  InsecureRequestWarning)\n"
     ]
    },
    {
     "ename": "TypeError",
     "evalue": "tuple indices must be integers or slices, not str",
     "output_type": "error",
     "traceback": [
      "\u001b[1;31m---------------------------------------------------------------------------\u001b[0m",
      "\u001b[1;31mTypeError\u001b[0m                                 Traceback (most recent call last)",
      "\u001b[1;32m<ipython-input-108-81102c872df9>\u001b[0m in \u001b[0;36m<module>\u001b[1;34m\u001b[0m\n\u001b[1;32m----> 1\u001b[1;33m \u001b[0mresultJson\u001b[0m\u001b[1;33m,\u001b[0m \u001b[0mresultPD\u001b[0m \u001b[1;33m=\u001b[0m \u001b[0munitary\u001b[0m\u001b[1;33m(\u001b[0m\u001b[0mconfigName\u001b[0m\u001b[1;33m=\u001b[0m\u001b[1;34m\"DEFAULT\"\u001b[0m\u001b[1;33m,\u001b[0m\u001b[0maod\u001b[0m\u001b[1;33m=\u001b[0m\u001b[1;34m\"2016-07-04\"\u001b[0m\u001b[1;33m,\u001b[0m\u001b[0mpricingMethod\u001b[0m\u001b[1;33m=\u001b[0m\u001b[1;34m\"THEORETICAL\"\u001b[0m\u001b[1;33m,\u001b[0m\u001b[0mmarketDataSetId\u001b[0m\u001b[1;33m=\u001b[0m\u001b[1;34m\"$id/DEFAULT\"\u001b[0m\u001b[1;33m,\u001b[0m\u001b[0mreferenceCurrency\u001b[0m\u001b[1;33m=\u001b[0m\u001b[1;34m\"$id/USD\"\u001b[0m\u001b[1;33m,\u001b[0m\u001b[0mmarketDataProviderId\u001b[0m\u001b[1;33m=\u001b[0m\u001b[1;34m\"PE_STORE_MDP\"\u001b[0m\u001b[1;33m,\u001b[0m\u001b[0mresultHandlerConfigId\u001b[0m\u001b[1;33m=\u001b[0m\u001b[1;32mNone\u001b[0m\u001b[1;33m,\u001b[0m\u001b[0mperimeter\u001b[0m\u001b[1;33m=\u001b[0m\u001b[1;34m\"ALL_FX_OPTION\"\u001b[0m\u001b[1;33m,\u001b[0m \u001b[0mscenarioContexts\u001b[0m \u001b[1;33m=\u001b[0m \u001b[0mscenarioContexts\u001b[0m\u001b[1;33m,\u001b[0m\u001b[0mresultHandlerId\u001b[0m\u001b[1;33m=\u001b[0m\u001b[1;34m\"Collector\"\u001b[0m\u001b[1;33m)\u001b[0m\u001b[1;33m\u001b[0m\u001b[1;33m\u001b[0m\u001b[0m\n\u001b[0m",
      "\u001b[1;32m<ipython-input-107-fc677e3239fb>\u001b[0m in \u001b[0;36munitary\u001b[1;34m(configName, aod, pricingMethod, marketDataSetId, resultHandlerId, referenceCurrency, resultHandlerConfigId, marketDataProviderId, perimeter, scenarioContexts)\u001b[0m\n\u001b[0;32m     14\u001b[0m     \u001b[0mreponse\u001b[0m \u001b[1;33m=\u001b[0m \u001b[0mpost\u001b[0m\u001b[1;33m(\u001b[0m\u001b[0murl\u001b[0m\u001b[1;33m=\u001b[0m\u001b[0murl_price\u001b[0m\u001b[1;33m,\u001b[0m \u001b[0mjson\u001b[0m\u001b[1;33m=\u001b[0m\u001b[0munitary_price\u001b[0m\u001b[1;33m)\u001b[0m\u001b[1;33m\u001b[0m\u001b[1;33m\u001b[0m\u001b[0m\n\u001b[0;32m     15\u001b[0m     \u001b[1;32mif\u001b[0m \u001b[0mresultHandlerConfigId\u001b[0m \u001b[1;32mis\u001b[0m \u001b[1;32mNone\u001b[0m\u001b[1;33m:\u001b[0m\u001b[1;33m\u001b[0m\u001b[1;33m\u001b[0m\u001b[0m\n\u001b[1;32m---> 16\u001b[1;33m         \u001b[0mdic\u001b[0m \u001b[1;33m=\u001b[0m \u001b[0mreponse\u001b[0m\u001b[1;33m[\u001b[0m\u001b[1;34m\"pricingResults\"\u001b[0m\u001b[1;33m]\u001b[0m\u001b[1;33m\u001b[0m\u001b[1;33m\u001b[0m\u001b[0m\n\u001b[0m\u001b[0;32m     17\u001b[0m         \u001b[0mval\u001b[0m  \u001b[1;33m=\u001b[0m \u001b[0mpd\u001b[0m\u001b[1;33m.\u001b[0m\u001b[0mDataFrame\u001b[0m\u001b[1;33m(\u001b[0m\u001b[0mcolumns\u001b[0m\u001b[1;33m=\u001b[0m\u001b[1;33m[\u001b[0m\u001b[1;34m\"id\"\u001b[0m\u001b[1;33m,\u001b[0m\u001b[1;34m\"npv\"\u001b[0m\u001b[1;33m]\u001b[0m\u001b[1;33m)\u001b[0m\u001b[1;33m\u001b[0m\u001b[1;33m\u001b[0m\u001b[0m\n\u001b[0;32m     18\u001b[0m         \u001b[0mids\u001b[0m\u001b[1;33m=\u001b[0m\u001b[1;33m[\u001b[0m\u001b[1;33m]\u001b[0m\u001b[1;33m\u001b[0m\u001b[1;33m\u001b[0m\u001b[0m\n",
      "\u001b[1;31mTypeError\u001b[0m: tuple indices must be integers or slices, not str"
     ]
    }
   ],
   "source": [
    "resultJson, resultPD = unitary(configName=\"DEFAULT\",aod=\"2016-07-04\",pricingMethod=\"THEORETICAL\",marketDataSetId=\"$id/DEFAULT\",referenceCurrency=\"$id/USD\",marketDataProviderId=\"PE_STORE_MDP\",resultHandlerConfigId=None,perimeter=\"ALL_FX_OPTION\", scenarioContexts = scenarioContexts,resultHandlerId=\"Collector\")"
   ]
  },
  {
   "cell_type": "code",
   "execution_count": 109,
   "metadata": {},
   "outputs": [
    {
     "data": {
      "text/html": [
       "<div>\n",
       "<style scoped>\n",
       "    .dataframe tbody tr th:only-of-type {\n",
       "        vertical-align: middle;\n",
       "    }\n",
       "\n",
       "    .dataframe tbody tr th {\n",
       "        vertical-align: top;\n",
       "    }\n",
       "\n",
       "    .dataframe thead th {\n",
       "        text-align: right;\n",
       "    }\n",
       "</style>\n",
       "<table border=\"1\" class=\"dataframe\">\n",
       "  <thead>\n",
       "    <tr style=\"text-align: right;\">\n",
       "      <th></th>\n",
       "      <th>id</th>\n",
       "      <th>npv</th>\n",
       "    </tr>\n",
       "  </thead>\n",
       "  <tbody>\n",
       "    <tr>\n",
       "      <th>0</th>\n",
       "      <td>FXOptionVanilla_1</td>\n",
       "      <td>-6.847514388329348E-13</td>\n",
       "    </tr>\n",
       "  </tbody>\n",
       "</table>\n",
       "</div>"
      ],
      "text/plain": [
       "                  id                     npv\n",
       "0  FXOptionVanilla_1  -6.847514388329348E-13"
      ]
     },
     "execution_count": 109,
     "metadata": {},
     "output_type": "execute_result"
    }
   ],
   "source": [
    "resultPD"
   ]
  },
  {
   "cell_type": "markdown",
   "metadata": {},
   "source": [
    "# NPV FOR ONE TRADE"
   ]
  },
  {
   "cell_type": "code",
   "execution_count": null,
   "metadata": {},
   "outputs": [],
   "source": []
  }
 ],
 "metadata": {
  "kernelspec": {
   "display_name": "Python 3",
   "language": "python",
   "name": "python3"
  },
  "language_info": {
   "codemirror_mode": {
    "name": "ipython",
    "version": 3
   },
   "file_extension": ".py",
   "mimetype": "text/x-python",
   "name": "python",
   "nbconvert_exporter": "python",
   "pygments_lexer": "ipython3",
   "version": "3.6.8"
  }
 },
 "nbformat": 4,
 "nbformat_minor": 2
}
