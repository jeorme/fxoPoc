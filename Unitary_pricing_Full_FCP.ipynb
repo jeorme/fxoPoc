{
 "cells": [
  {
   "cell_type": "markdown",
   "metadata": {},
   "source": [
    "# Import library"
   ]
  },
  {
   "cell_type": "code",
   "execution_count": 26,
   "metadata": {},
   "outputs": [],
   "source": [
    "import requests\n",
    "import json"
   ]
  },
  {
   "cell_type": "markdown",
   "metadata": {},
   "source": [
    "# Helper function for REST call : GET / PUT / POST /DELETE"
   ]
  },
  {
   "cell_type": "code",
   "execution_count": 27,
   "metadata": {},
   "outputs": [],
   "source": [
    "#helper\n",
    "def get(url):\n",
    "    \"\"\"REST CALL : GET\"\"\"\n",
    "    reponse = requests.get(url, verify=False)\n",
    "    if (reponse.ok):\n",
    "        val = reponse.json()\n",
    "    else:\n",
    "        status = reponse.raise_for_status()\n",
    "        val = \"error : \" + status\n",
    "    reponse.close()\n",
    "    return val\n",
    "\n",
    "\n",
    "def delete(url ):\n",
    "    \"\"\"REST CALL : DELETE\"\"\"\n",
    "    reponse = requests.delete(url,verify=False)\n",
    "    if (reponse.ok):\n",
    "        val = \"data deleted\"\n",
    "    else:\n",
    "        status = reponse.raise_for_status()\n",
    "        val = \"error : \" + status\n",
    "    reponse.close()\n",
    "    return val\n",
    "\n",
    "\n",
    "def put(url, json):\n",
    "    \"\"\"REST CALL : PUT\"\"\"\n",
    "    reponse = requests.put(url, json=json, verify=False)\n",
    "    if (reponse.ok):\n",
    "        val = \"build\"\n",
    "    else:\n",
    "        status = reponse.raise_for_status()\n",
    "        val = \"error : \" + status\n",
    "    reponse.close()\n",
    "    return val\n",
    "\n",
    "def post(url, json):\n",
    "    \"\"\"REST CALL : POST\"\"\"\n",
    "    reponse = requests.post(url, json=json, verify=False,headers={'Connection':'close'})\n",
    "    if(reponse.ok):\n",
    "        if(reponse.status_code==201):\n",
    "            val = reponse.headers._store['location'][1]\n",
    "        else:\n",
    "            val= reponse.json()\n",
    "    elif(reponse.status_code==400):\n",
    "        val= reponse.text\n",
    "    else:\n",
    "        status = reponse.raise_for_status()\n",
    "        val =  \"error : \" + status\n",
    "    reponse.close()\n",
    "    return val"
   ]
  },
  {
   "cell_type": "code",
   "execution_count": 44,
   "metadata": {},
   "outputs": [],
   "source": [
    "#use the API unitary price to price a FXO with the corresponding measures\n",
    "#we use the input defined by FCP and use the FCP pricer\n",
    "#since the API is not defined we use the generic pricer and we set by default the non used parameter\n",
    "def unitary(unitary_price):\n",
    "    url_price = url_fcp_swagger+\"pricing/pricer/\"\n",
    "    unitary_price[\"resultHandlerId\"] = \"Report\"\n",
    "    unitary_price[\"resultHandlerConfigId\"] = \"id-Default\"\n",
    "    unitary_price[\"marketDataProviderId\"] = \"PE_STORE_MDP\"\n",
    "    unitary_price[\"referenceCurrency\"] = \"id/USD\"    \n",
    "    unitary_price[\"scenarioContexts\"] = []\n",
    "    unitary_price[\"scenarioContexts\"].append({\"outputCashflows\" : unitray_price[\"outputCashflows\"]})\n",
    "    unitary_price[\"scenarioContexts\"].append({\"outputPastCashflows\" : unitray_price[\"outputPastCashflows\"]})\n",
    "    unitary_price[\"scenarioContexts\"].append({\"resultsByLeg\" : unitray_price[\"resultsByLeg\"]})\n",
    "    unitary_price[\"scenarioContexts\"].append({\"id\" : \"base\"})\n",
    "    unitary_price[\"scenarioContexts\"].append({\"measureGroupIds\" : unitray_price[\"groupIds\"]})\n",
    "    unitary_price[\"perimeter\"] = {\"trade\" : {\"tradeId\" : unitary_price[\"trade\"][\"tradeId\"][\"id\"]}}\n",
    "    return(post(url=url_price,json=unitary_price))\n",
    "    "
   ]
  },
  {
   "cell_type": "markdown",
   "metadata": {},
   "source": [
    "# URL LINK : SWAGGER FCC / FCP"
   ]
  },
  {
   "cell_type": "code",
   "execution_count": 34,
   "metadata": {},
   "outputs": [],
   "source": [
    "url_fcp_swagger = \"https://fr1pslcmf05:8770/api/\"\n",
    "## url to create currency static data\n",
    "fcp_yc_definition = url_fcp_swagger+\"pricing/Store/MarketData/YieldCurveDefinitions/\"\n",
    "fcp_yc_quote = url_fcp_swagger + \"pricing/Store/MarketData/YieldCurves/\"\n",
    "## url to create currency static data\n",
    "fcp_currency_static = url_fcp_swagger+\"pricing/Store/StaticData/Currencies/\"\n",
    "fcp_CurrencyPair = url_fcp_swagger+\"pricing/Store/StaticData/CurrencyPairs/\"\n",
    "#url to push the Fx rate to the store\n",
    "fcp_fxPair = url_fcp_swagger+\"pricing/Store/MarketData/FxRates\"\n",
    "#url for marketdata set\n",
    "fcp_marketData_set = url_fcp_swagger+\"pricing/marketDataSetIds\"\n",
    "#FXO trade\n",
    "fcp_FXO_store = url_fcp_swagger+\"Store/Trade/FxOption\"\n",
    "#pricing config \n",
    "fcp_config = url_fcp_swagger+\"pricing/configs/\"\n",
    "#measure group\n",
    "fcp_measure = url_fcp_swagger+\"pricing/measureGroups/\""
   ]
  },
  {
   "cell_type": "markdown",
   "metadata": {},
   "source": [
    "## Synthetic function for Fx static / Fx pair / Fx Yield curve"
   ]
  },
  {
   "cell_type": "code",
   "execution_count": null,
   "metadata": {},
   "outputs": [],
   "source": [
    "def fx_static_pair(currency_dom, currency_for, forDom):\n",
    "    post(url = fcp_currency_static, json=currency_dom)\n",
    "    post(url = fcp_currency_static, json=currency_for)\n",
    "    post(url = fcp_CurrencyPair, json=forDom)\n",
    "        "
   ]
  },
  {
   "cell_type": "markdown",
   "metadata": {},
   "source": [
    "# Create static data"
   ]
  },
  {
   "cell_type": "code",
   "execution_count": null,
   "metadata": {},
   "outputs": [],
   "source": [
    "currency_dom = { 'id': '$DOM', 'isoCode': 'DOM'}\n",
    "currency_for = {'id' : '$FOR', 'isoCode' : 'FOR'}\n",
    "input_forDom =  {\"currency1\" : \"FOR\",\"currency2\" : \"DOM\", \"id\":\"$FOR/$DOM\" , \"name\": \"FOR/DOM\", \"spotLag\" : 0}"
   ]
  },
  {
   "cell_type": "code",
   "execution_count": null,
   "metadata": {},
   "outputs": [],
   "source": [
    "fx_static_pair(currency_dom, currency_for, input_forDom)\n",
    "#check the static\n",
    "print(get(url=fcp_currency_static+\"$DOM\"))\n",
    "print(get(url=fcp_currency_static+\"$FOR\"))\n",
    "print(get(url=fcp_CurrencyPair+'$FOR/$DOM'))"
   ]
  },
  {
   "cell_type": "markdown",
   "metadata": {},
   "source": [
    "# Create FX Pair"
   ]
  },
  {
   "cell_type": "code",
   "execution_count": null,
   "metadata": {},
   "outputs": [],
   "source": [
    "MD = get(url=fcp_marketData_set)\n",
    "print(MD)"
   ]
  },
  {
   "cell_type": "code",
   "execution_count": null,
   "metadata": {},
   "outputs": [],
   "source": [
    "fxPair = {\n",
    "  \"date\": \"2019-03-19\",\n",
    "  \"marketSet\": \"DEFAULT\",\n",
    "  \"name\": \"FOR/DOM\",\n",
    "  \"value\": 1.12\n",
    "}\n",
    "url_output = post(url = fcp_fxPair, json=fxPair)\n",
    "#check the val\n",
    "print(get(url=url_output))"
   ]
  },
  {
   "cell_type": "markdown",
   "metadata": {},
   "source": [
    "## Create Yield Curve Definition"
   ]
  },
  {
   "cell_type": "code",
   "execution_count": null,
   "metadata": {},
   "outputs": [],
   "source": [
    "yc_definition = {\n",
    "    \"name\": \"DOM_TEST\",\n",
    "    \"currency\": \"DOM\",\n",
    "    \"switchDates\": [\n",
    "        0,\n",
    "        6\n",
    "        ],\n",
    "    \"interpolationVariables\": [\n",
    "        \"zeroCouponRate\",\n",
    "        \"discountFactor\",\n",
    "        \"zeroCouponRate\"\n",
    "        ],\n",
    "    \"interpolationMethods\": [\n",
    "        \"flat\",\n",
    "        \"linear\",\n",
    "        \"flat\"\n",
    "        ],\n",
    "    \"zeroCouponFormula\": \"exponential\",\n",
    "    \"zeroCouponBasis\": \"ACT/365.FIXED\"\n",
    "}"
   ]
  },
  {
   "cell_type": "code",
   "execution_count": null,
   "metadata": {},
   "outputs": [],
   "source": [
    "#We push the static currency into FCP store\n",
    "yc_def = post(url = fcp_yc_definition, json=yc_definition)\n",
    "#Check the pair\n",
    "print(get(url=yc_def))"
   ]
  },
  {
   "cell_type": "markdown",
   "metadata": {},
   "source": [
    "## Create Yield curve"
   ]
  },
  {
   "cell_type": "code",
   "execution_count": null,
   "metadata": {},
   "outputs": [],
   "source": [
    "MD = get(url=fcp_marketData_set)\n",
    "print(MD)"
   ]
  },
  {
   "cell_type": "code",
   "execution_count": null,
   "metadata": {},
   "outputs": [],
   "source": [
    "yc_DF = {\n",
    "    \"name\": \"DOM_TEST\",\n",
    "    \"date\": \"2019-03-19\",\n",
    "    \"marketSet\": \"DEFAULT\",\n",
    "    \"valuesType\": \"discountFactor\",\n",
    "    \"values\": {\n",
    "        \"2020-02-08\": 0.999800089973,\n",
    "        \"2020-03-12\": 0.9956852186623,\n",
    "        \"2020-05-10\": 0.9865951285774,\n",
    "        \"2020-08-10\": 0.9729177720202,\n",
    "        \"2021-02-07\": 0.9443724335959,\n",
    "        \"2025-02-09\": 0.8493570595195,\n",
    "        \"2028-02-07\": 0.7754530001423\n",
    "        }\n",
    "    }"
   ]
  },
  {
   "cell_type": "code",
   "execution_count": null,
   "metadata": {},
   "outputs": [],
   "source": [
    "yc = post(url = fcp_yc_quote,json=yc_DF)\n",
    "print(get(url=yc))"
   ]
  },
  {
   "cell_type": "markdown",
   "metadata": {},
   "source": [
    "# price a trade defined in the store"
   ]
  },
  {
   "cell_type": "markdown",
   "metadata": {},
   "source": [
    "## Step 1 : Define pricingConfig"
   ]
  },
  {
   "cell_type": "markdown",
   "metadata": {},
   "source": [
    "### Step a : define risk factor resolver"
   ]
  },
  {
   "cell_type": "code",
   "execution_count": null,
   "metadata": {},
   "outputs": [],
   "source": []
  },
  {
   "cell_type": "markdown",
   "metadata": {},
   "source": [
    "### Step b : define finite difference scheme config"
   ]
  },
  {
   "cell_type": "code",
   "execution_count": null,
   "metadata": {},
   "outputs": [],
   "source": []
  },
  {
   "cell_type": "markdown",
   "metadata": {},
   "source": [
    "### Step c : define the pricing config"
   ]
  },
  {
   "cell_type": "code",
   "execution_count": 25,
   "metadata": {},
   "outputs": [],
   "source": [
    "#TO BE CONFIRMED : \n",
    "#pricer Resolver : only GET how to define it\n",
    "#risk factor resolver : can define it via a POST\n",
    "#finitedifferenceSchemesConfig : can define it via a POST\n",
    "pricing_config_id = \"e26f34d7-8192-4264-b405-33b6b79afedb\"\n",
    "pricing_config = get(fcp_config+\"e26f34d7-8192-4264-b405-33b6b79afedb\")"
   ]
  },
  {
   "cell_type": "markdown",
   "metadata": {},
   "source": [
    "## Step 2 : Get  marketDataSet"
   ]
  },
  {
   "cell_type": "code",
   "execution_count": 30,
   "metadata": {},
   "outputs": [
    {
     "name": "stdout",
     "output_type": "stream",
     "text": [
      "[{'id': 'id-Default', 'name': 'DEFAULT'}]\n"
     ]
    },
    {
     "name": "stderr",
     "output_type": "stream",
     "text": [
      "C:\\Users\\jerpetit\\AppData\\Local\\Continuum\\anaconda3\\lib\\site-packages\\urllib3\\connectionpool.py:847: InsecureRequestWarning: Unverified HTTPS request is being made. Adding certificate verification is strongly advised. See: https://urllib3.readthedocs.io/en/latest/advanced-usage.html#ssl-warnings\n",
      "  InsecureRequestWarning)\n"
     ]
    }
   ],
   "source": [
    "MD = get(url=fcp_marketData_set)\n",
    "print(MD)"
   ]
  },
  {
   "cell_type": "markdown",
   "metadata": {},
   "source": [
    "## Step 3 : define the measure groups"
   ]
  },
  {
   "cell_type": "code",
   "execution_count": 35,
   "metadata": {},
   "outputs": [],
   "source": [
    "measure_group = {\n",
    "  \"measureIds\": [\n",
    "    \"NPV\",\"FXD_Delta_Spot\",\"FXD_Gamma\",\"FXD_Rho_Foreign\",\"FXD_Rho_Domestic\",\"FXD_Theta\",\"FXD_Vega\"\n",
    "  ],\n",
    "  \"name\": \"FXO_OTP\"\n",
    "}"
   ]
  },
  {
   "cell_type": "code",
   "execution_count": 39,
   "metadata": {},
   "outputs": [
    {
     "name": "stderr",
     "output_type": "stream",
     "text": [
      "C:\\Users\\jerpetit\\AppData\\Local\\Continuum\\anaconda3\\lib\\site-packages\\urllib3\\connectionpool.py:847: InsecureRequestWarning: Unverified HTTPS request is being made. Adding certificate verification is strongly advised. See: https://urllib3.readthedocs.io/en/latest/advanced-usage.html#ssl-warnings\n",
      "  InsecureRequestWarning)\n"
     ]
    },
    {
     "name": "stdout",
     "output_type": "stream",
     "text": [
      "{'id': 'aa41a417-4327-476b-9868-fbfb4dead8c5', 'name': 'FXO_OTP', 'measureIds': ['FXD_Delta_Spot', 'FXD_Gamma', 'FXD_Rho_Domestic', 'FXD_Rho_Foreign', 'FXD_Theta', 'FXD_Vega', 'NPV']}\n"
     ]
    },
    {
     "name": "stderr",
     "output_type": "stream",
     "text": [
      "C:\\Users\\jerpetit\\AppData\\Local\\Continuum\\anaconda3\\lib\\site-packages\\urllib3\\connectionpool.py:847: InsecureRequestWarning: Unverified HTTPS request is being made. Adding certificate verification is strongly advised. See: https://urllib3.readthedocs.io/en/latest/advanced-usage.html#ssl-warnings\n",
      "  InsecureRequestWarning)\n"
     ]
    }
   ],
   "source": [
    "###To be discussed : maybe it is better to pass the list than create a measure group\n",
    "measure = post(url=fcp_measure,json=measure_group)\n",
    "print(get(fcp_measure+measure['id']))"
   ]
  },
  {
   "cell_type": "markdown",
   "metadata": {},
   "source": [
    "## Step 4 : get the trade ID"
   ]
  },
  {
   "cell_type": "code",
   "execution_count": null,
   "metadata": {},
   "outputs": [],
   "source": [
    "fxo_trade = \"FXOptionVanilla_28\""
   ]
  },
  {
   "cell_type": "markdown",
   "metadata": {},
   "source": [
    "## Step 5 : price"
   ]
  },
  {
   "cell_type": "code",
   "execution_count": 45,
   "metadata": {},
   "outputs": [],
   "source": [
    "#To be confirmed : do we need of :\n",
    "#outputCashflows, outputPastCashflows, resultsByLeg, \n",
    "#forceFiniteDifference : always true or false for vanilla)\n",
    "#version , draft not yet used\n",
    "#should we precise the reference currency here?\n",
    "\n",
    "unitaryPrice ={\n",
    "  \"asOfDate\": \"2016-07-04\",\n",
    "  \"pricingConfigId\": \"e26f34d7-8192-4264-b405-33b6b79afedb\",\n",
    "  \"marketDataSetId\": \"id-Default\",\n",
    "  \"pricingMethod\": \"THEORETICAL\",\n",
    "  \"measures\": {\n",
    "    \"groupIds\": [\n",
    "      \"aa41a417-4327-476b-9868-fbfb4dead8c5\"\n",
    "    ]\n",
    "  },\n",
    "  \"outputCashflows\": True,\n",
    "  \"outputPastCashflows\": True,\n",
    "  \"resultsByLeg\": True,\n",
    "  \"forceFiniteDifferences\": False,\n",
    "  \"trade\": {\n",
    "    \"tradeId\": {\n",
    "      \"id\": \"FXOptionVanilla_28\",\n",
    "      \"version\": \"string\",\n",
    "      \"draft\": \"string\"\n",
    "    }\n",
    "  }\n",
    "}"
   ]
  },
  {
   "cell_type": "code",
   "execution_count": 46,
   "metadata": {},
   "outputs": [
    {
     "ename": "TypeError",
     "evalue": "'dict' object is not callable",
     "output_type": "error",
     "traceback": [
      "\u001b[1;31m---------------------------------------------------------------------------\u001b[0m",
      "\u001b[1;31mTypeError\u001b[0m                                 Traceback (most recent call last)",
      "\u001b[1;32m<ipython-input-46-7becafbb027d>\u001b[0m in \u001b[0;36m<module>\u001b[1;34m\u001b[0m\n\u001b[1;32m----> 1\u001b[1;33m \u001b[0mresult\u001b[0m \u001b[1;33m=\u001b[0m \u001b[0munitaryPrice\u001b[0m\u001b[1;33m(\u001b[0m\u001b[0munitaryPrice\u001b[0m\u001b[1;33m)\u001b[0m\u001b[1;33m\u001b[0m\u001b[1;33m\u001b[0m\u001b[0m\n\u001b[0m",
      "\u001b[1;31mTypeError\u001b[0m: 'dict' object is not callable"
     ]
    }
   ],
   "source": [
    "result = unitaryPrice(unitaryPrice)"
   ]
  },
  {
   "cell_type": "markdown",
   "metadata": {},
   "source": [
    "## Clean MarketData"
   ]
  },
  {
   "cell_type": "code",
   "execution_count": 20,
   "metadata": {},
   "outputs": [
    {
     "name": "stderr",
     "output_type": "stream",
     "text": [
      "C:\\Users\\jerpetit\\AppData\\Local\\Continuum\\anaconda3\\lib\\site-packages\\urllib3\\connectionpool.py:847: InsecureRequestWarning: Unverified HTTPS request is being made. Adding certificate verification is strongly advised. See: https://urllib3.readthedocs.io/en/latest/advanced-usage.html#ssl-warnings\n",
      "  InsecureRequestWarning)\n"
     ]
    },
    {
     "name": "stdout",
     "output_type": "stream",
     "text": [
      "data deleted\n"
     ]
    },
    {
     "name": "stderr",
     "output_type": "stream",
     "text": [
      "C:\\Users\\jerpetit\\AppData\\Local\\Continuum\\anaconda3\\lib\\site-packages\\urllib3\\connectionpool.py:847: InsecureRequestWarning: Unverified HTTPS request is being made. Adding certificate verification is strongly advised. See: https://urllib3.readthedocs.io/en/latest/advanced-usage.html#ssl-warnings\n",
      "  InsecureRequestWarning)\n"
     ]
    },
    {
     "name": "stdout",
     "output_type": "stream",
     "text": [
      "data deleted\n"
     ]
    },
    {
     "name": "stderr",
     "output_type": "stream",
     "text": [
      "C:\\Users\\jerpetit\\AppData\\Local\\Continuum\\anaconda3\\lib\\site-packages\\urllib3\\connectionpool.py:847: InsecureRequestWarning: Unverified HTTPS request is being made. Adding certificate verification is strongly advised. See: https://urllib3.readthedocs.io/en/latest/advanced-usage.html#ssl-warnings\n",
      "  InsecureRequestWarning)\n"
     ]
    },
    {
     "name": "stdout",
     "output_type": "stream",
     "text": [
      "data deleted\n",
      "data deleted"
     ]
    },
    {
     "name": "stderr",
     "output_type": "stream",
     "text": [
      "C:\\Users\\jerpetit\\AppData\\Local\\Continuum\\anaconda3\\lib\\site-packages\\urllib3\\connectionpool.py:847: InsecureRequestWarning: Unverified HTTPS request is being made. Adding certificate verification is strongly advised. See: https://urllib3.readthedocs.io/en/latest/advanced-usage.html#ssl-warnings\n",
      "  InsecureRequestWarning)\n"
     ]
    },
    {
     "name": "stdout",
     "output_type": "stream",
     "text": [
      "\n"
     ]
    },
    {
     "name": "stderr",
     "output_type": "stream",
     "text": [
      "C:\\Users\\jerpetit\\AppData\\Local\\Continuum\\anaconda3\\lib\\site-packages\\urllib3\\connectionpool.py:847: InsecureRequestWarning: Unverified HTTPS request is being made. Adding certificate verification is strongly advised. See: https://urllib3.readthedocs.io/en/latest/advanced-usage.html#ssl-warnings\n",
      "  InsecureRequestWarning)\n"
     ]
    },
    {
     "name": "stdout",
     "output_type": "stream",
     "text": [
      "data deleted\n",
      "data deleted\n"
     ]
    },
    {
     "name": "stderr",
     "output_type": "stream",
     "text": [
      "C:\\Users\\jerpetit\\AppData\\Local\\Continuum\\anaconda3\\lib\\site-packages\\urllib3\\connectionpool.py:847: InsecureRequestWarning: Unverified HTTPS request is being made. Adding certificate verification is strongly advised. See: https://urllib3.readthedocs.io/en/latest/advanced-usage.html#ssl-warnings\n",
      "  InsecureRequestWarning)\n"
     ]
    }
   ],
   "source": [
    "#clean static and FX pair\n",
    "print(delete(url=fcp_CurrencyPair+'$FOR/$DOM'))\n",
    "print(delete(url=fcp_currency_static+\"$DOM\"))\n",
    "print(delete(url=fcp_currency_static+\"$FOR\"))\n",
    "print(delete(url=url_output))\n",
    "#clean yield curve\n",
    "print(delete(url=yc_def))\n",
    "print(delete(url=yc))\n",
    "#clean measure group\n",
    "print(delete(fcp_measure+measure['id']))"
   ]
  },
  {
   "cell_type": "code",
   "execution_count": null,
   "metadata": {},
   "outputs": [],
   "source": []
  }
 ],
 "metadata": {
  "kernelspec": {
   "display_name": "Python 3",
   "language": "python",
   "name": "python3"
  },
  "language_info": {
   "codemirror_mode": {
    "name": "ipython",
    "version": 3
   },
   "file_extension": ".py",
   "mimetype": "text/x-python",
   "name": "python",
   "nbconvert_exporter": "python",
   "pygments_lexer": "ipython3",
   "version": "3.6.8"
  }
 },
 "nbformat": 4,
 "nbformat_minor": 2
}
