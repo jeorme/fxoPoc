{
 "cells": [
  {
   "cell_type": "markdown",
   "metadata": {},
   "source": [
    "# Import library"
   ]
  },
  {
   "cell_type": "code",
   "execution_count": 53,
   "metadata": {},
   "outputs": [],
   "source": [
    "import requests\n",
    "import json\n",
    "import pandas as pd\n",
    "import numpy as np"
   ]
  },
  {
   "cell_type": "code",
   "execution_count": 54,
   "metadata": {},
   "outputs": [],
   "source": [
    "url_fcp_swagger = \"https://fr1pslcmf05:8770/api/\"\n",
    "url_pricing_config = \"https://fr1pslcmf05:8770/api/pricing/configs\"\n",
    "url_result_handler =\"https://fr1pslcmf05:8770/api/pricing/report/result/Pricing\"\n",
    "url_measureGRoup = \"https://fr1pslcmf05:8770/api/pricing/measureGroups\"\n",
    "url_fxoptionTrade = \"https://fr1pslcmf05:8770/api/pricing/Store/Trade/FxOption\""
   ]
  },
  {
   "cell_type": "markdown",
   "metadata": {},
   "source": [
    "# Mandatory field : we use those defined in FCP no need to define it"
   ]
  },
  {
   "cell_type": "code",
   "execution_count": 55,
   "metadata": {},
   "outputs": [],
   "source": [
    "configName=\"DEFAULT\"\n",
    "pricingMethod=\"THEORETICAL\"\n",
    "marketDataSetId=\"$id/DEFAULT\"\n",
    "marketDataProviderId=\"PE_STORE_MDP\"\n",
    "resultHandlerConfigId=None\n",
    "resultHandlerId=\"Collector\""
   ]
  },
  {
   "cell_type": "markdown",
   "metadata": {},
   "source": [
    "# Helper function for REST call : GET / PUT / POST /DELETE"
   ]
  },
  {
   "cell_type": "code",
   "execution_count": 56,
   "metadata": {},
   "outputs": [],
   "source": [
    "#helper\n",
    "def get(url):\n",
    "    \"\"\"REST CALL : GET\"\"\"\n",
    "    reponse = requests.get(url, verify=False)\n",
    "    if (reponse.ok):\n",
    "        val = reponse.json()\n",
    "    else:\n",
    "        status = reponse.raise_for_status()\n",
    "        val = \"error : \" + status\n",
    "    reponse.close()\n",
    "    return val\n",
    "\n",
    "\n",
    "def delete(url ):\n",
    "    \"\"\"REST CALL : DELETE\"\"\"\n",
    "    reponse = requests.delete(url,verify=False)\n",
    "    if (reponse.ok):\n",
    "        val = \"data deleted\"\n",
    "    else:\n",
    "        status = reponse.raise_for_status()\n",
    "        val = \"error : \" + status\n",
    "    reponse.close()\n",
    "    return val\n",
    "\n",
    "\n",
    "def put(url, json):\n",
    "    \"\"\"REST CALL : PUT\"\"\"\n",
    "    reponse = requests.put(url, json=json, verify=False)\n",
    "    if (reponse.ok):\n",
    "        val = \"build\"\n",
    "    else:\n",
    "        status = reponse.raise_for_status()\n",
    "        val = \"error : \" + status\n",
    "    reponse.close()\n",
    "    return val\n",
    "\n",
    "def post(url, json):\n",
    "    \"\"\"REST CALL : POST\"\"\"\n",
    "    reponse = requests.post(url, json=json, verify=False,headers={'Connection':'close'})\n",
    "    if(reponse.ok):\n",
    "        if(reponse.status_code==201):\n",
    "            val = reponse.headers._store['location'][1]\n",
    "        else:\n",
    "            val = reponse.json()\n",
    "    elif(reponse.status_code==400):\n",
    "        val= reponse.json()\n",
    "    else:\n",
    "        status = reponse.raise_for_status()\n",
    "        val =  \"error : \" + status\n",
    "    reponse.close()\n",
    "    return val\n",
    "\n"
   ]
  },
  {
   "cell_type": "code",
   "execution_count": 57,
   "metadata": {},
   "outputs": [],
   "source": [
    "def getPricingId(configName):\n",
    "    urlConfig = \"https://fr1pslcmf05:8770/api/pricing/configs\"\n",
    "    config = get(urlConfig)\n",
    "    for item in config:\n",
    "        if (item['name']==configName):\n",
    "            return item[\"id\"]\n",
    "    return \"error\""
   ]
  },
  {
   "cell_type": "code",
   "execution_count": 58,
   "metadata": {},
   "outputs": [],
   "source": [
    "def unitary(aod,referenceCurrency,scenarioContexts,perimeter,configName =configName, pricingMethod = pricingMethod,marketDataSetId = marketDataSetId,marketDataProviderId=marketDataProviderId,resultHandlerId = resultHandlerId,resultHandlerConfigId=resultHandlerConfigId):\n",
    "    unitary_price = {}\n",
    "    unitary_price[\"asOfDate\"] = aod\n",
    "    unitary_price[\"referenceCurrency\"] = referenceCurrency     \n",
    "    unitary_price[\"pricingMethod\"] = pricingMethod\n",
    "    unitary_price[\"marketDataSetId\"] = marketDataSetId\n",
    "    unitary_price[\"resultHandlerId\"] = resultHandlerId\n",
    "    unitary_price[\"resultHandlerConfigId\"] = resultHandlerConfigId\n",
    "    unitary_price[\"marketDataProviderId\"] = marketDataProviderId    \n",
    "    unitary_price[\"pricingConfigId\"] = getPricingId(configName)\n",
    "    unitary_price[\"perimeter\"] = perimeter\n",
    "    unitary_price[\"scenarioContexts\"] = scenarioContexts\n",
    "    url_price = url_fcp_swagger + \"pricing/price/\"\n",
    "    reponse = post(url=url_price, json=unitary_price)\n",
    "    return reponse[\"pricingResults\"]\n"
   ]
  },
  {
   "cell_type": "markdown",
   "metadata": {},
   "source": [
    "# NPV use case"
   ]
  },
  {
   "cell_type": "code",
   "execution_count": 59,
   "metadata": {},
   "outputs": [],
   "source": [
    "#input needed : that need to be defined\n",
    "scenarioContexts =[\n",
    "    {\n",
    "      \"id\": \"base\",\n",
    "      \"measureGroupIds\": [\n",
    "        \"NPV\"\n",
    "      ]\n",
    "    }\n",
    "]\n",
    "perimeter = {\"trade\" : {\"ids\": [\"FXOptionVanilla_2\"]}}"
   ]
  },
  {
   "cell_type": "code",
   "execution_count": 60,
   "metadata": {},
   "outputs": [
    {
     "name": "stderr",
     "output_type": "stream",
     "text": [
      "C:\\Users\\jerom\\Anaconda3\\lib\\site-packages\\urllib3\\connectionpool.py:847: InsecureRequestWarning: Unverified HTTPS request is being made. Adding certificate verification is strongly advised. See: https://urllib3.readthedocs.io/en/latest/advanced-usage.html#ssl-warnings\n",
      "  InsecureRequestWarning)\n",
      "C:\\Users\\jerom\\Anaconda3\\lib\\site-packages\\urllib3\\connectionpool.py:847: InsecureRequestWarning: Unverified HTTPS request is being made. Adding certificate verification is strongly advised. See: https://urllib3.readthedocs.io/en/latest/advanced-usage.html#ssl-warnings\n",
      "  InsecureRequestWarning)\n"
     ]
    }
   ],
   "source": [
    "resultJson = unitary(aod=\"2016-07-04\",referenceCurrency=\"$id/USD\",perimeter=perimeter, scenarioContexts = scenarioContexts)"
   ]
  },
  {
   "cell_type": "code",
   "execution_count": 61,
   "metadata": {},
   "outputs": [
    {
     "data": {
      "text/plain": [
       "{'FXOptionVanilla_2': {'currencyId': '$id/USD',\n",
       "  'pricerId': {'library': 'FQPFXDerivative',\n",
       "   'pricingModel': 'Black Scholes',\n",
       "   'numericalMethod': 'Closed Formula'},\n",
       "  'scenarios': [{'id': 'base',\n",
       "    'entries': [{'id': '0',\n",
       "      'measures': {'NPV': 43597842.8377264},\n",
       "      'properties': {},\n",
       "      'cashFlows': [],\n",
       "      'legs': []}]}]}}"
      ]
     },
     "execution_count": 61,
     "metadata": {},
     "output_type": "execute_result"
    }
   ],
   "source": [
    "resultJson"
   ]
  },
  {
   "cell_type": "markdown",
   "metadata": {},
   "source": [
    "   # create a measureGRoup"
   ]
  },
  {
   "cell_type": "code",
   "execution_count": 62,
   "metadata": {},
   "outputs": [],
   "source": [
    "id_measure_group = \"FXO_TC_ID\"\n",
    "measureGroupTD = {\n",
    "    \"id\" : \"FXO_TC_ID\", \n",
    "    \"name\": \"FXO_TRADE_CAPTURE\",\n",
    "     \"measureIds\": [\n",
    "         \"NPV\",\n",
    "         \"FXD_Delta_Forward\",\n",
    "         \"FXD_Delta_Spot\",\n",
    "         \"FXD_Gamma\",\n",
    "         \"FXD_Theta\",\n",
    "         \"FXD_Rho_Domestic\",\n",
    "         \"FXD_Rho_Foreign\",\n",
    "         \"FXD_Vega\",         \n",
    "     ]\n",
    "}"
   ]
  },
  {
   "cell_type": "code",
   "execution_count": 63,
   "metadata": {},
   "outputs": [
    {
     "name": "stderr",
     "output_type": "stream",
     "text": [
      "C:\\Users\\jerom\\Anaconda3\\lib\\site-packages\\urllib3\\connectionpool.py:847: InsecureRequestWarning: Unverified HTTPS request is being made. Adding certificate verification is strongly advised. See: https://urllib3.readthedocs.io/en/latest/advanced-usage.html#ssl-warnings\n",
      "  InsecureRequestWarning)\n"
     ]
    },
    {
     "data": {
      "text/plain": [
       "'https://fr1pslcmf05:8770/api/pricing/measureGroups/FXO_TC_ID'"
      ]
     },
     "execution_count": 63,
     "metadata": {},
     "output_type": "execute_result"
    }
   ],
   "source": [
    "post(url_measureGRoup,measureGroupTD)  "
   ]
  },
  {
   "cell_type": "code",
   "execution_count": 64,
   "metadata": {},
   "outputs": [
    {
     "name": "stderr",
     "output_type": "stream",
     "text": [
      "C:\\Users\\jerom\\Anaconda3\\lib\\site-packages\\urllib3\\connectionpool.py:847: InsecureRequestWarning: Unverified HTTPS request is being made. Adding certificate verification is strongly advised. See: https://urllib3.readthedocs.io/en/latest/advanced-usage.html#ssl-warnings\n",
      "  InsecureRequestWarning)\n"
     ]
    },
    {
     "data": {
      "text/plain": [
       "{'id': 'FXO_TC_ID',\n",
       " 'name': 'FXO_TRADE_CAPTURE',\n",
       " 'measureIds': ['FXD_Delta_Forward',\n",
       "  'FXD_Delta_Spot',\n",
       "  'FXD_Gamma',\n",
       "  'FXD_Rho_Domestic',\n",
       "  'FXD_Rho_Foreign',\n",
       "  'FXD_Theta',\n",
       "  'FXD_Vega',\n",
       "  'NPV']}"
      ]
     },
     "execution_count": 64,
     "metadata": {},
     "output_type": "execute_result"
    }
   ],
   "source": [
    "get(url_measureGRoup+\"/\"+id_measure_group)"
   ]
  },
  {
   "cell_type": "code",
   "execution_count": 65,
   "metadata": {},
   "outputs": [],
   "source": [
    "#input needed : that need to be defined\n",
    "scenarioContexts =[\n",
    "    {\n",
    "      \"id\": \"base\",\n",
    "      \"measureGroupIds\": [\n",
    "        id_measure_group\n",
    "      ]\n",
    "    }\n",
    "]\n",
    "perimeter = {\"trade\" : {\"ids\": [\"FXOptionVanilla_2\"]}}"
   ]
  },
  {
   "cell_type": "code",
   "execution_count": 66,
   "metadata": {},
   "outputs": [
    {
     "name": "stderr",
     "output_type": "stream",
     "text": [
      "C:\\Users\\jerom\\Anaconda3\\lib\\site-packages\\urllib3\\connectionpool.py:847: InsecureRequestWarning: Unverified HTTPS request is being made. Adding certificate verification is strongly advised. See: https://urllib3.readthedocs.io/en/latest/advanced-usage.html#ssl-warnings\n",
      "  InsecureRequestWarning)\n",
      "C:\\Users\\jerom\\Anaconda3\\lib\\site-packages\\urllib3\\connectionpool.py:847: InsecureRequestWarning: Unverified HTTPS request is being made. Adding certificate verification is strongly advised. See: https://urllib3.readthedocs.io/en/latest/advanced-usage.html#ssl-warnings\n",
      "  InsecureRequestWarning)\n"
     ]
    }
   ],
   "source": [
    "resultJson = unitary(aod=\"2016-07-04\",referenceCurrency=\"$id/USD\",perimeter=perimeter, scenarioContexts = scenarioContexts)"
   ]
  },
  {
   "cell_type": "code",
   "execution_count": 23,
   "metadata": {},
   "outputs": [
    {
     "data": {
      "text/plain": [
       "{'FXOptionVanilla_2': {'currencyId': '$id/USD',\n",
       "  'pricerId': {'library': 'FQPFXDerivative',\n",
       "   'pricingModel': 'Black Scholes',\n",
       "   'numericalMethod': 'Closed Formula'},\n",
       "  'scenarios': [{'id': 'base',\n",
       "    'entries': [{'id': '0',\n",
       "      'measures': {'FXD_Gamma': 2.6029829728034266e-09,\n",
       "       'FXD_Theta': -22535957569659.08,\n",
       "       'NPV': 43597842.8377264,\n",
       "       'FXD_Vega': 8.87717787817909e-12,\n",
       "       'FXD_Delta_Forward': -250022657.8402953,\n",
       "       'FXD_Rho_Foreign': 12226823.015886612,\n",
       "       'FXD_Delta_Spot': -250066702.57299024,\n",
       "       'FXD_Rho_Domestic': 477827867172365.75},\n",
       "      'properties': {},\n",
       "      'cashFlows': [],\n",
       "      'legs': []}]}]}}"
      ]
     },
     "execution_count": 23,
     "metadata": {},
     "output_type": "execute_result"
    }
   ],
   "source": [
    "resultJson"
   ]
  },
  {
   "cell_type": "code",
   "execution_count": 24,
   "metadata": {},
   "outputs": [
    {
     "name": "stderr",
     "output_type": "stream",
     "text": [
      "C:\\Users\\jerom\\Anaconda3\\lib\\site-packages\\urllib3\\connectionpool.py:847: InsecureRequestWarning: Unverified HTTPS request is being made. Adding certificate verification is strongly advised. See: https://urllib3.readthedocs.io/en/latest/advanced-usage.html#ssl-warnings\n",
      "  InsecureRequestWarning)\n"
     ]
    },
    {
     "data": {
      "text/plain": [
       "'data deleted'"
      ]
     },
     "execution_count": 24,
     "metadata": {},
     "output_type": "execute_result"
    }
   ],
   "source": [
    "delete(url_measureGRoup+\"/\"+\"FXO_TC_ID\")"
   ]
  },
  {
   "cell_type": "code",
   "execution_count": 25,
   "metadata": {},
   "outputs": [
    {
     "name": "stderr",
     "output_type": "stream",
     "text": [
      "C:\\Users\\jerom\\Anaconda3\\lib\\site-packages\\urllib3\\connectionpool.py:847: InsecureRequestWarning: Unverified HTTPS request is being made. Adding certificate verification is strongly advised. See: https://urllib3.readthedocs.io/en/latest/advanced-usage.html#ssl-warnings\n",
      "  InsecureRequestWarning)\n"
     ]
    },
    {
     "data": {
      "text/plain": [
       "[{'id': 'NPV', 'name': 'NPV', 'readOnly': True},\n",
       " {'id': 'Standard', 'name': 'Standard', 'readOnly': True},\n",
       " {'id': 'Advanced', 'name': 'Advanced', 'readOnly': True}]"
      ]
     },
     "execution_count": 25,
     "metadata": {},
     "output_type": "execute_result"
    }
   ],
   "source": [
    "get(url_measureGRoup)"
   ]
  },
  {
   "cell_type": "markdown",
   "metadata": {},
   "source": [
    "# FX OPTION TRADE ID"
   ]
  },
  {
   "cell_type": "code",
   "execution_count": 26,
   "metadata": {},
   "outputs": [],
   "source": [
    "dic_id={}"
   ]
  },
  {
   "cell_type": "code",
   "execution_count": 27,
   "metadata": {},
   "outputs": [
    {
     "name": "stderr",
     "output_type": "stream",
     "text": [
      "C:\\Users\\jerom\\Anaconda3\\lib\\site-packages\\urllib3\\connectionpool.py:847: InsecureRequestWarning: Unverified HTTPS request is being made. Adding certificate verification is strongly advised. See: https://urllib3.readthedocs.io/en/latest/advanced-usage.html#ssl-warnings\n",
      "  InsecureRequestWarning)\n"
     ]
    }
   ],
   "source": [
    "fxoTrades = get(url_fxoptionTrade)"
   ]
  },
  {
   "cell_type": "code",
   "execution_count": 28,
   "metadata": {},
   "outputs": [],
   "source": [
    "def changeTrade(trade):\n",
    "    old_id = trade[\"id\"]\n",
    "    currency = trade[\"currency\"]\n",
    "    trade[\"id\"] = \"newID\"\n",
    "    trade[\"currency\"]\n",
    "    return trade"
   ]
  },
  {
   "cell_type": "code",
   "execution_count": 29,
   "metadata": {},
   "outputs": [],
   "source": [
    "modif_trade = []\n",
    "for trade in fxoTrades:\n",
    "    modif_trade.append(changeTrade(trade))"
   ]
  },
  {
   "cell_type": "code",
   "execution_count": 30,
   "metadata": {},
   "outputs": [
    {
     "data": {
      "text/plain": [
       "[{'id': 'newID',\n",
       "  'type': 'FX Option',\n",
       "  'subType': 'Vanilla',\n",
       "  'currency': 'JPY',\n",
       "  'maturityDate': '2016-09-30',\n",
       "  'businessUnit0': None,\n",
       "  'businessUnit1': None,\n",
       "  'businessUnit2': None,\n",
       "  'businessUnit3': None,\n",
       "  'businessUnit4': None,\n",
       "  'counterparty': None},\n",
       " {'id': 'newID',\n",
       "  'type': 'FX Option',\n",
       "  'subType': 'Vanilla',\n",
       "  'currency': 'USD',\n",
       "  'maturityDate': '2016-07-18',\n",
       "  'businessUnit0': None,\n",
       "  'businessUnit1': None,\n",
       "  'businessUnit2': None,\n",
       "  'businessUnit3': None,\n",
       "  'businessUnit4': None,\n",
       "  'counterparty': None},\n",
       " {'id': 'newID',\n",
       "  'type': 'FX Option',\n",
       "  'subType': 'Vanilla',\n",
       "  'currency': 'USD',\n",
       "  'maturityDate': '2017-01-24',\n",
       "  'businessUnit0': None,\n",
       "  'businessUnit1': None,\n",
       "  'businessUnit2': None,\n",
       "  'businessUnit3': None,\n",
       "  'businessUnit4': None,\n",
       "  'counterparty': None},\n",
       " {'id': 'newID',\n",
       "  'type': 'FX Option',\n",
       "  'subType': 'Vanilla',\n",
       "  'currency': 'GBP',\n",
       "  'maturityDate': '2016-07-28',\n",
       "  'businessUnit0': None,\n",
       "  'businessUnit1': None,\n",
       "  'businessUnit2': None,\n",
       "  'businessUnit3': None,\n",
       "  'businessUnit4': None,\n",
       "  'counterparty': None},\n",
       " {'id': 'newID',\n",
       "  'type': 'FX Option',\n",
       "  'subType': 'Vanilla',\n",
       "  'currency': 'USD',\n",
       "  'maturityDate': '2016-12-30',\n",
       "  'businessUnit0': None,\n",
       "  'businessUnit1': None,\n",
       "  'businessUnit2': None,\n",
       "  'businessUnit3': None,\n",
       "  'businessUnit4': None,\n",
       "  'counterparty': None},\n",
       " {'id': 'newID',\n",
       "  'type': 'FX Option',\n",
       "  'subType': 'Vanilla',\n",
       "  'currency': 'JPY',\n",
       "  'maturityDate': '2017-05-09',\n",
       "  'businessUnit0': None,\n",
       "  'businessUnit1': None,\n",
       "  'businessUnit2': None,\n",
       "  'businessUnit3': None,\n",
       "  'businessUnit4': None,\n",
       "  'counterparty': None},\n",
       " {'id': 'newID',\n",
       "  'type': 'FX Option',\n",
       "  'subType': 'Vanilla',\n",
       "  'currency': 'GBP',\n",
       "  'maturityDate': '2017-01-27',\n",
       "  'businessUnit0': None,\n",
       "  'businessUnit1': None,\n",
       "  'businessUnit2': None,\n",
       "  'businessUnit3': None,\n",
       "  'businessUnit4': None,\n",
       "  'counterparty': None},\n",
       " {'id': 'newID',\n",
       "  'type': 'FX Option',\n",
       "  'subType': 'Vanilla',\n",
       "  'currency': 'HKD',\n",
       "  'maturityDate': '2019-07-25',\n",
       "  'businessUnit0': None,\n",
       "  'businessUnit1': None,\n",
       "  'businessUnit2': None,\n",
       "  'businessUnit3': None,\n",
       "  'businessUnit4': None,\n",
       "  'counterparty': None},\n",
       " {'id': 'newID',\n",
       "  'type': 'FX Option',\n",
       "  'subType': 'Vanilla',\n",
       "  'currency': 'USD',\n",
       "  'maturityDate': '2016-08-01',\n",
       "  'businessUnit0': None,\n",
       "  'businessUnit1': None,\n",
       "  'businessUnit2': None,\n",
       "  'businessUnit3': None,\n",
       "  'businessUnit4': None,\n",
       "  'counterparty': None},\n",
       " {'id': 'newID',\n",
       "  'type': 'FX Option',\n",
       "  'subType': 'Vanilla',\n",
       "  'currency': 'USD',\n",
       "  'maturityDate': '2016-08-03',\n",
       "  'businessUnit0': None,\n",
       "  'businessUnit1': None,\n",
       "  'businessUnit2': None,\n",
       "  'businessUnit3': None,\n",
       "  'businessUnit4': None,\n",
       "  'counterparty': None},\n",
       " {'id': 'newID',\n",
       "  'type': 'FX Option',\n",
       "  'subType': 'Vanilla',\n",
       "  'currency': 'USD',\n",
       "  'maturityDate': '2017-03-31',\n",
       "  'businessUnit0': None,\n",
       "  'businessUnit1': None,\n",
       "  'businessUnit2': None,\n",
       "  'businessUnit3': None,\n",
       "  'businessUnit4': None,\n",
       "  'counterparty': None},\n",
       " {'id': 'newID',\n",
       "  'type': 'FX Option',\n",
       "  'subType': 'Vanilla',\n",
       "  'currency': 'JPY',\n",
       "  'maturityDate': '2016-10-24',\n",
       "  'businessUnit0': None,\n",
       "  'businessUnit1': None,\n",
       "  'businessUnit2': None,\n",
       "  'businessUnit3': None,\n",
       "  'businessUnit4': None,\n",
       "  'counterparty': None},\n",
       " {'id': 'newID',\n",
       "  'type': 'FX Option',\n",
       "  'subType': 'Vanilla',\n",
       "  'currency': 'USD',\n",
       "  'maturityDate': '2017-05-05',\n",
       "  'businessUnit0': None,\n",
       "  'businessUnit1': None,\n",
       "  'businessUnit2': None,\n",
       "  'businessUnit3': None,\n",
       "  'businessUnit4': None,\n",
       "  'counterparty': None},\n",
       " {'id': 'newID',\n",
       "  'type': 'FX Option',\n",
       "  'subType': 'Vanilla',\n",
       "  'currency': 'USD',\n",
       "  'maturityDate': '2020-01-11',\n",
       "  'businessUnit0': None,\n",
       "  'businessUnit1': None,\n",
       "  'businessUnit2': None,\n",
       "  'businessUnit3': None,\n",
       "  'businessUnit4': None,\n",
       "  'counterparty': None},\n",
       " {'id': 'newID',\n",
       "  'type': 'FX Option',\n",
       "  'subType': 'Vanilla',\n",
       "  'currency': 'JPY',\n",
       "  'maturityDate': '2019-09-12',\n",
       "  'businessUnit0': None,\n",
       "  'businessUnit1': None,\n",
       "  'businessUnit2': None,\n",
       "  'businessUnit3': None,\n",
       "  'businessUnit4': None,\n",
       "  'counterparty': None},\n",
       " {'id': 'newID',\n",
       "  'type': 'FX Option',\n",
       "  'subType': 'Vanilla',\n",
       "  'currency': 'HKD',\n",
       "  'maturityDate': '2019-07-24',\n",
       "  'businessUnit0': None,\n",
       "  'businessUnit1': None,\n",
       "  'businessUnit2': None,\n",
       "  'businessUnit3': None,\n",
       "  'businessUnit4': None,\n",
       "  'counterparty': None},\n",
       " {'id': 'newID',\n",
       "  'type': 'FX Option',\n",
       "  'subType': 'Vanilla',\n",
       "  'currency': 'GBP',\n",
       "  'maturityDate': '2016-12-02',\n",
       "  'businessUnit0': None,\n",
       "  'businessUnit1': None,\n",
       "  'businessUnit2': None,\n",
       "  'businessUnit3': None,\n",
       "  'businessUnit4': None,\n",
       "  'counterparty': None},\n",
       " {'id': 'newID',\n",
       "  'type': 'FX Option',\n",
       "  'subType': 'Vanilla',\n",
       "  'currency': 'USD',\n",
       "  'maturityDate': '2017-04-06',\n",
       "  'businessUnit0': None,\n",
       "  'businessUnit1': None,\n",
       "  'businessUnit2': None,\n",
       "  'businessUnit3': None,\n",
       "  'businessUnit4': None,\n",
       "  'counterparty': None},\n",
       " {'id': 'newID',\n",
       "  'type': 'FX Option',\n",
       "  'subType': 'Vanilla',\n",
       "  'currency': 'USD',\n",
       "  'maturityDate': '2016-09-01',\n",
       "  'businessUnit0': None,\n",
       "  'businessUnit1': None,\n",
       "  'businessUnit2': None,\n",
       "  'businessUnit3': None,\n",
       "  'businessUnit4': None,\n",
       "  'counterparty': None},\n",
       " {'id': 'newID',\n",
       "  'type': 'FX Option',\n",
       "  'subType': 'Vanilla',\n",
       "  'currency': 'USD',\n",
       "  'maturityDate': '2017-06-02',\n",
       "  'businessUnit0': None,\n",
       "  'businessUnit1': None,\n",
       "  'businessUnit2': None,\n",
       "  'businessUnit3': None,\n",
       "  'businessUnit4': None,\n",
       "  'counterparty': None},\n",
       " {'id': 'newID',\n",
       "  'type': 'FX Option',\n",
       "  'subType': 'Vanilla',\n",
       "  'currency': 'USD',\n",
       "  'maturityDate': '2016-07-15',\n",
       "  'businessUnit0': None,\n",
       "  'businessUnit1': None,\n",
       "  'businessUnit2': None,\n",
       "  'businessUnit3': None,\n",
       "  'businessUnit4': None,\n",
       "  'counterparty': None},\n",
       " {'id': 'newID',\n",
       "  'type': 'FX Option',\n",
       "  'subType': 'Vanilla',\n",
       "  'currency': 'GBP',\n",
       "  'maturityDate': '2016-07-20',\n",
       "  'businessUnit0': None,\n",
       "  'businessUnit1': None,\n",
       "  'businessUnit2': None,\n",
       "  'businessUnit3': None,\n",
       "  'businessUnit4': None,\n",
       "  'counterparty': None},\n",
       " {'id': 'newID',\n",
       "  'type': 'FX Option',\n",
       "  'subType': 'Vanilla',\n",
       "  'currency': 'USD',\n",
       "  'maturityDate': '2016-08-19',\n",
       "  'businessUnit0': None,\n",
       "  'businessUnit1': None,\n",
       "  'businessUnit2': None,\n",
       "  'businessUnit3': None,\n",
       "  'businessUnit4': None,\n",
       "  'counterparty': None},\n",
       " {'id': 'newID',\n",
       "  'type': 'FX Option',\n",
       "  'subType': 'Vanilla',\n",
       "  'currency': 'USD',\n",
       "  'maturityDate': '2016-11-28',\n",
       "  'businessUnit0': None,\n",
       "  'businessUnit1': None,\n",
       "  'businessUnit2': None,\n",
       "  'businessUnit3': None,\n",
       "  'businessUnit4': None,\n",
       "  'counterparty': None},\n",
       " {'id': 'newID',\n",
       "  'type': 'FX Option',\n",
       "  'subType': 'Vanilla',\n",
       "  'currency': 'USD',\n",
       "  'maturityDate': '2016-07-06',\n",
       "  'businessUnit0': None,\n",
       "  'businessUnit1': None,\n",
       "  'businessUnit2': None,\n",
       "  'businessUnit3': None,\n",
       "  'businessUnit4': None,\n",
       "  'counterparty': None},\n",
       " {'id': 'newID',\n",
       "  'type': 'FX Option',\n",
       "  'subType': 'Vanilla',\n",
       "  'currency': 'USD',\n",
       "  'maturityDate': '2016-07-26',\n",
       "  'businessUnit0': None,\n",
       "  'businessUnit1': None,\n",
       "  'businessUnit2': None,\n",
       "  'businessUnit3': None,\n",
       "  'businessUnit4': None,\n",
       "  'counterparty': None},\n",
       " {'id': 'newID',\n",
       "  'type': 'FX Option',\n",
       "  'subType': 'Vanilla',\n",
       "  'currency': 'JPY',\n",
       "  'maturityDate': '2016-07-08',\n",
       "  'businessUnit0': None,\n",
       "  'businessUnit1': None,\n",
       "  'businessUnit2': None,\n",
       "  'businessUnit3': None,\n",
       "  'businessUnit4': None,\n",
       "  'counterparty': None},\n",
       " {'id': 'newID',\n",
       "  'type': 'FX Option',\n",
       "  'subType': 'Vanilla',\n",
       "  'currency': 'USD',\n",
       "  'maturityDate': '2016-11-08',\n",
       "  'businessUnit0': None,\n",
       "  'businessUnit1': None,\n",
       "  'businessUnit2': None,\n",
       "  'businessUnit3': None,\n",
       "  'businessUnit4': None,\n",
       "  'counterparty': None},\n",
       " {'id': 'newID',\n",
       "  'type': 'FX Option',\n",
       "  'subType': 'Vanilla',\n",
       "  'currency': 'USD',\n",
       "  'maturityDate': '2016-07-14',\n",
       "  'businessUnit0': None,\n",
       "  'businessUnit1': None,\n",
       "  'businessUnit2': None,\n",
       "  'businessUnit3': None,\n",
       "  'businessUnit4': None,\n",
       "  'counterparty': None},\n",
       " {'id': 'newID',\n",
       "  'type': 'FX Option',\n",
       "  'subType': 'Vanilla',\n",
       "  'currency': 'JPY',\n",
       "  'maturityDate': '2016-08-04',\n",
       "  'businessUnit0': None,\n",
       "  'businessUnit1': None,\n",
       "  'businessUnit2': None,\n",
       "  'businessUnit3': None,\n",
       "  'businessUnit4': None,\n",
       "  'counterparty': None},\n",
       " {'id': 'newID',\n",
       "  'type': 'FX Option',\n",
       "  'subType': 'Vanilla',\n",
       "  'currency': 'JPY',\n",
       "  'maturityDate': '2017-01-11',\n",
       "  'businessUnit0': None,\n",
       "  'businessUnit1': None,\n",
       "  'businessUnit2': None,\n",
       "  'businessUnit3': None,\n",
       "  'businessUnit4': None,\n",
       "  'counterparty': None},\n",
       " {'id': 'newID',\n",
       "  'type': 'FX Option',\n",
       "  'subType': 'Vanilla',\n",
       "  'currency': 'USD',\n",
       "  'maturityDate': '2018-10-07',\n",
       "  'businessUnit0': None,\n",
       "  'businessUnit1': None,\n",
       "  'businessUnit2': None,\n",
       "  'businessUnit3': None,\n",
       "  'businessUnit4': None,\n",
       "  'counterparty': None},\n",
       " {'id': 'newID',\n",
       "  'type': 'FX Option',\n",
       "  'subType': 'Vanilla',\n",
       "  'currency': 'JPY',\n",
       "  'maturityDate': '2017-06-02',\n",
       "  'businessUnit0': None,\n",
       "  'businessUnit1': None,\n",
       "  'businessUnit2': None,\n",
       "  'businessUnit3': None,\n",
       "  'businessUnit4': None,\n",
       "  'counterparty': None},\n",
       " {'id': 'newID',\n",
       "  'type': 'FX Option',\n",
       "  'subType': 'Vanilla',\n",
       "  'currency': 'JPY',\n",
       "  'maturityDate': '2016-07-19',\n",
       "  'businessUnit0': None,\n",
       "  'businessUnit1': None,\n",
       "  'businessUnit2': None,\n",
       "  'businessUnit3': None,\n",
       "  'businessUnit4': None,\n",
       "  'counterparty': None},\n",
       " {'id': 'newID',\n",
       "  'type': 'FX Option',\n",
       "  'subType': 'Vanilla',\n",
       "  'currency': 'JPY',\n",
       "  'maturityDate': '2017-04-05',\n",
       "  'businessUnit0': None,\n",
       "  'businessUnit1': None,\n",
       "  'businessUnit2': None,\n",
       "  'businessUnit3': None,\n",
       "  'businessUnit4': None,\n",
       "  'counterparty': None}]"
      ]
     },
     "execution_count": 30,
     "metadata": {},
     "output_type": "execute_result"
    }
   ],
   "source": [
    "modif_trade"
   ]
  },
  {
   "cell_type": "markdown",
   "metadata": {},
   "source": [
    "# FX VOL workflow"
   ]
  },
  {
   "cell_type": "code",
   "execution_count": 67,
   "metadata": {},
   "outputs": [],
   "source": [
    "url_fx_vol = \"https://fr1pslcmf05:8770/api/pricing/Store/MarketData/FxVolatilityCurves\""
   ]
  },
  {
   "cell_type": "code",
   "execution_count": 68,
   "metadata": {},
   "outputs": [
    {
     "name": "stderr",
     "output_type": "stream",
     "text": [
      "C:\\Users\\jerom\\Anaconda3\\lib\\site-packages\\urllib3\\connectionpool.py:847: InsecureRequestWarning: Unverified HTTPS request is being made. Adding certificate verification is strongly advised. See: https://urllib3.readthedocs.io/en/latest/advanced-usage.html#ssl-warnings\n",
      "  InsecureRequestWarning)\n"
     ]
    }
   ],
   "source": [
    "dropdown = get(url_fx_vol)"
   ]
  },
  {
   "cell_type": "code",
   "execution_count": 69,
   "metadata": {},
   "outputs": [
    {
     "data": {
      "text/plain": [
       "[{'id': '$id/CAD_JPY_VolSurf', 'name': 'CAD_JPY_VolSurf'},\n",
       " {'id': '$id/EUR_GBP_VolSurf', 'name': 'EUR_GBP_VolSurf'},\n",
       " {'id': '$id/EUR_HKD_VolSurf', 'name': 'EUR_HKD_VolSurf'},\n",
       " {'id': '$id/EUR_JPY_VolSurf', 'name': 'EUR_JPY_VolSurf'},\n",
       " {'id': '$id/EUR_USD_VolSurf', 'name': 'EUR_USD_VolSurf'},\n",
       " {'id': '$id/GBP_USD_VolSurf', 'name': 'GBP_USD_VolSurf'},\n",
       " {'id': '$id/USD_JPY_VolSurf', 'name': 'USD_JPY_VolSurf'}]"
      ]
     },
     "execution_count": 69,
     "metadata": {},
     "output_type": "execute_result"
    }
   ],
   "source": [
    "dropdown"
   ]
  },
  {
   "cell_type": "code",
   "execution_count": 70,
   "metadata": {},
   "outputs": [],
   "source": [
    "name = \"EUR_USD_VolSurf\"\n",
    "url_fx_value = \"https://fr1pslcmf05:8770/api/pricing/Store/MarketData/FxVolatilityCurveValues?name=\"+name\n",
    "url_fx_def = \"https://fr1pslcmf05:8770/api/pricing/Store/MarketData/FxVolatilityCurveDefinitions?name=\"+name"
   ]
  },
  {
   "cell_type": "code",
   "execution_count": 71,
   "metadata": {},
   "outputs": [
    {
     "name": "stdout",
     "output_type": "stream",
     "text": [
      "[{'id': '59efd157d2cb4725a996f46aa052a6e3', 'marketSet': 'DEFAULT', 'date': '2016-07-04', 'name': 'EUR_USD_VolSurf'}]\n"
     ]
    },
    {
     "name": "stderr",
     "output_type": "stream",
     "text": [
      "C:\\Users\\jerom\\Anaconda3\\lib\\site-packages\\urllib3\\connectionpool.py:847: InsecureRequestWarning: Unverified HTTPS request is being made. Adding certificate verification is strongly advised. See: https://urllib3.readthedocs.io/en/latest/advanced-usage.html#ssl-warnings\n",
      "  InsecureRequestWarning)\n"
     ]
    }
   ],
   "source": [
    "id_fx_value = get(url_fx_value)\n",
    "print(id_fx_value) #choix par rapport à la date "
   ]
  },
  {
   "cell_type": "code",
   "execution_count": 72,
   "metadata": {},
   "outputs": [
    {
     "name": "stderr",
     "output_type": "stream",
     "text": [
      "C:\\Users\\jerom\\Anaconda3\\lib\\site-packages\\urllib3\\connectionpool.py:847: InsecureRequestWarning: Unverified HTTPS request is being made. Adding certificate verification is strongly advised. See: https://urllib3.readthedocs.io/en/latest/advanced-usage.html#ssl-warnings\n",
      "  InsecureRequestWarning)\n"
     ]
    }
   ],
   "source": [
    "id_fx_def = get(url_fx_def)"
   ]
  },
  {
   "cell_type": "code",
   "execution_count": 73,
   "metadata": {},
   "outputs": [],
   "source": [
    "url_val = \"https://fr1pslcmf05:8770/api/pricing/Store/MarketData/FxVolatilityCurveValues\"+\"/\"+str(id_fx_value[0]['id'])\n",
    "url_def = \"https://fr1pslcmf05:8770/api/pricing/Store/MarketData/FxVolatilityCurveDefinitions\"+\"/\"+str(id_fx_def[0]['id'])"
   ]
  },
  {
   "cell_type": "code",
   "execution_count": 74,
   "metadata": {},
   "outputs": [
    {
     "name": "stderr",
     "output_type": "stream",
     "text": [
      "C:\\Users\\jerom\\Anaconda3\\lib\\site-packages\\urllib3\\connectionpool.py:847: InsecureRequestWarning: Unverified HTTPS request is being made. Adding certificate verification is strongly advised. See: https://urllib3.readthedocs.io/en/latest/advanced-usage.html#ssl-warnings\n",
      "  InsecureRequestWarning)\n"
     ]
    }
   ],
   "source": [
    "defFx = get(url_def)"
   ]
  },
  {
   "cell_type": "code",
   "execution_count": 75,
   "metadata": {},
   "outputs": [
    {
     "data": {
      "text/plain": [
       "{'id': '777c2ce0d55547c08319401d3e6157ac',\n",
       " 'name': 'EUR_USD_VolSurf',\n",
       " 'marketSet': 'DEFAULT',\n",
       " 'currencyPair': 'EUR/USD',\n",
       " 'domesticCurve': 'USD-FFUND',\n",
       " 'foreignCurve': 'EUR_XUSD',\n",
       " 'volatilityBasis': 'ACT/365.FIXED',\n",
       " 'premiumAdjusted': False,\n",
       " 'termStructureInterpolation': {'interpolationMethod': 'linear',\n",
       "  'extrapolationMethodBefore': 'flat',\n",
       "  'extrapolationMethodAfter': 'flat',\n",
       "  'variable': 'volatility'},\n",
       " 'smileInterpolation': {'interpolationMethod': 'linear',\n",
       "  'extrapolationMethod': 'flat',\n",
       "  'variable': 'volatility'}}"
      ]
     },
     "execution_count": 75,
     "metadata": {},
     "output_type": "execute_result"
    }
   ],
   "source": [
    "defFx"
   ]
  },
  {
   "cell_type": "code",
   "execution_count": 76,
   "metadata": {},
   "outputs": [
    {
     "data": {
      "text/plain": [
       "[{'id': '59efd157d2cb4725a996f46aa052a6e3',\n",
       "  'marketSet': 'DEFAULT',\n",
       "  'date': '2016-07-04',\n",
       "  'name': 'EUR_USD_VolSurf'}]"
      ]
     },
     "execution_count": 76,
     "metadata": {},
     "output_type": "execute_result"
    }
   ],
   "source": [
    "id_fx_value"
   ]
  },
  {
   "cell_type": "code",
   "execution_count": null,
   "metadata": {},
   "outputs": [],
   "source": []
  }
 ],
 "metadata": {
  "kernelspec": {
   "display_name": "Python 3",
   "language": "python",
   "name": "python3"
  },
  "language_info": {
   "codemirror_mode": {
    "name": "ipython",
    "version": 3
   },
   "file_extension": ".py",
   "mimetype": "text/x-python",
   "name": "python",
   "nbconvert_exporter": "python",
   "pygments_lexer": "ipython3",
   "version": "3.6.8"
  }
 },
 "nbformat": 4,
 "nbformat_minor": 2
}
