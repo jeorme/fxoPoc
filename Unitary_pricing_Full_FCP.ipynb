{
 "cells": [
  {
   "cell_type": "markdown",
   "metadata": {},
   "source": [
    "# Import library"
   ]
  },
  {
   "cell_type": "code",
   "execution_count": 243,
   "metadata": {},
   "outputs": [],
   "source": [
    "import requests\n",
    "import json\n",
    "import pandas as pd\n",
    "import numpy as np"
   ]
  },
  {
   "cell_type": "code",
   "execution_count": 244,
   "metadata": {},
   "outputs": [],
   "source": [
    "url_fcp_swagger = \"https://fr1pslcmf05:8770/api/\"\n",
    "url_pricing_config = \"https://fr1pslcmf05:8770/api/pricing/configs\"\n",
    "url_result_handler =\"https://fr1pslcmf05:8770/api/pricing/report/result/Pricing\"\n",
    "url_measureGRoup = \"https://fr1pslcmf05:8770/api/pricing/measureGroups\""
   ]
  },
  {
   "cell_type": "markdown",
   "metadata": {},
   "source": [
    "# Mandatory field : we use those defined in FCP no need to define it"
   ]
  },
  {
   "cell_type": "code",
   "execution_count": 245,
   "metadata": {},
   "outputs": [],
   "source": [
    "configName=\"DEFAULT\"\n",
    "pricingMethod=\"THEORETICAL\"\n",
    "marketDataSetId=\"$id/DEFAULT\"\n",
    "marketDataProviderId=\"PE_STORE_MDP\"\n",
    "resultHandlerConfigId=None\n",
    "resultHandlerId=\"Collector\""
   ]
  },
  {
   "cell_type": "markdown",
   "metadata": {},
   "source": [
    "# Helper function for REST call : GET / PUT / POST /DELETE"
   ]
  },
  {
   "cell_type": "code",
   "execution_count": 246,
   "metadata": {},
   "outputs": [],
   "source": [
    "#helper\n",
    "def get(url):\n",
    "    \"\"\"REST CALL : GET\"\"\"\n",
    "    reponse = requests.get(url, verify=False)\n",
    "    if (reponse.ok):\n",
    "        val = reponse.json()\n",
    "    else:\n",
    "        status = reponse.raise_for_status()\n",
    "        val = \"error : \" + status\n",
    "    reponse.close()\n",
    "    return val\n",
    "\n",
    "\n",
    "def delete(url ):\n",
    "    \"\"\"REST CALL : DELETE\"\"\"\n",
    "    reponse = requests.delete(url,verify=False)\n",
    "    if (reponse.ok):\n",
    "        val = \"data deleted\"\n",
    "    else:\n",
    "        status = reponse.raise_for_status()\n",
    "        val = \"error : \" + status\n",
    "    reponse.close()\n",
    "    return val\n",
    "\n",
    "\n",
    "def put(url, json):\n",
    "    \"\"\"REST CALL : PUT\"\"\"\n",
    "    reponse = requests.put(url, json=json, verify=False)\n",
    "    if (reponse.ok):\n",
    "        val = \"build\"\n",
    "    else:\n",
    "        status = reponse.raise_for_status()\n",
    "        val = \"error : \" + status\n",
    "    reponse.close()\n",
    "    return val\n",
    "\n",
    "def post(url, json):\n",
    "    \"\"\"REST CALL : POST\"\"\"\n",
    "    reponse = requests.post(url, json=json, verify=False,headers={'Connection':'close'})\n",
    "    if(reponse.ok):\n",
    "        if(reponse.status_code==201):\n",
    "            val = reponse.headers._store['location'][1]\n",
    "        else:\n",
    "            val = reponse.json()\n",
    "    elif(reponse.status_code==400):\n",
    "        val= reponse.json()\n",
    "    else:\n",
    "        status = reponse.raise_for_status()\n",
    "        val =  \"error : \" + status\n",
    "    reponse.close()\n",
    "    return val\n",
    "\n"
   ]
  },
  {
   "cell_type": "code",
   "execution_count": 247,
   "metadata": {},
   "outputs": [],
   "source": [
    "def getPricingId(configName):\n",
    "    urlConfig = \"https://fr1pslcmf05:8770/api/pricing/configs\"\n",
    "    config = get(urlConfig)\n",
    "    for item in config:\n",
    "        if (item['name']==configName):\n",
    "            return item[\"id\"]\n",
    "    return \"error\""
   ]
  },
  {
   "cell_type": "code",
   "execution_count": 248,
   "metadata": {},
   "outputs": [],
   "source": [
    "def unitary(aod,referenceCurrency,scenarioContexts,perimeter,configName =configName, pricingMethod = pricingMethod,marketDataSetId = marketDataSetId,marketDataProviderId=marketDataProviderId,resultHandlerId = resultHandlerId,resultHandlerConfigId=resultHandlerConfigId):\n",
    "    unitary_price = {}\n",
    "    unitary_price[\"asOfDate\"] = aod\n",
    "    unitary_price[\"referenceCurrency\"] = referenceCurrency     \n",
    "    unitary_price[\"pricingMethod\"] = pricingMethod\n",
    "    unitary_price[\"marketDataSetId\"] = marketDataSetId\n",
    "    unitary_price[\"resultHandlerId\"] = resultHandlerId\n",
    "    unitary_price[\"resultHandlerConfigId\"] = resultHandlerConfigId\n",
    "    unitary_price[\"marketDataProviderId\"] = marketDataProviderId    \n",
    "    unitary_price[\"pricingConfigId\"] = getPricingId(configName)\n",
    "    unitary_price[\"perimeter\"] = perimeter\n",
    "    unitary_price[\"scenarioContexts\"] = scenarioContexts\n",
    "    url_price = url_fcp_swagger + \"pricing/price/\"\n",
    "    reponse = post(url=url_price, json=unitary_price)\n",
    "    return reponse[\"pricingResults\"]\n"
   ]
  },
  {
   "cell_type": "markdown",
   "metadata": {},
   "source": [
    "# NPV use case"
   ]
  },
  {
   "cell_type": "code",
   "execution_count": 249,
   "metadata": {},
   "outputs": [],
   "source": [
    "#input needed : that need to be defined\n",
    "scenarioContexts =[\n",
    "    {\n",
    "      \"id\": \"base\",\n",
    "      \"measureGroupIds\": [\n",
    "        \"NPV\"\n",
    "      ]\n",
    "    }\n",
    "]\n",
    "perimeter = {\"trade\" : {\"ids\": [\"FXOptionVanilla_1\"]}}"
   ]
  },
  {
   "cell_type": "code",
   "execution_count": 250,
   "metadata": {},
   "outputs": [
    {
     "name": "stderr",
     "output_type": "stream",
     "text": [
      "C:\\Users\\jerom\\Anaconda3\\lib\\site-packages\\urllib3\\connectionpool.py:847: InsecureRequestWarning: Unverified HTTPS request is being made. Adding certificate verification is strongly advised. See: https://urllib3.readthedocs.io/en/latest/advanced-usage.html#ssl-warnings\n",
      "  InsecureRequestWarning)\n",
      "C:\\Users\\jerom\\Anaconda3\\lib\\site-packages\\urllib3\\connectionpool.py:847: InsecureRequestWarning: Unverified HTTPS request is being made. Adding certificate verification is strongly advised. See: https://urllib3.readthedocs.io/en/latest/advanced-usage.html#ssl-warnings\n",
      "  InsecureRequestWarning)\n"
     ]
    }
   ],
   "source": [
    "resultJson = unitary(aod=\"2016-07-04\",referenceCurrency=\"$id/USD\",perimeter=perimeter, scenarioContexts = scenarioContexts)"
   ]
  },
  {
   "cell_type": "code",
   "execution_count": 251,
   "metadata": {},
   "outputs": [
    {
     "data": {
      "text/plain": [
       "{'FXOptionVanilla_1': {'currencyId': '$id/USD',\n",
       "  'pricerId': {'library': 'FQPFXDerivative',\n",
       "   'pricingModel': 'Black Scholes',\n",
       "   'numericalMethod': 'Closed Formula'},\n",
       "  'scenarios': [{'id': 'base',\n",
       "    'entries': [{'id': '0',\n",
       "      'measures': {'NPV': -6.847514388329348e-13},\n",
       "      'properties': {},\n",
       "      'cashFlows': [],\n",
       "      'legs': []}]}]}}"
      ]
     },
     "execution_count": 251,
     "metadata": {},
     "output_type": "execute_result"
    }
   ],
   "source": [
    "resultJson"
   ]
  },
  {
   "cell_type": "markdown",
   "metadata": {},
   "source": [
    "   # create a measureGRoup"
   ]
  },
  {
   "cell_type": "code",
   "execution_count": 252,
   "metadata": {},
   "outputs": [],
   "source": [
    "measureGroupTD = {\n",
    "    \"id\" : \"FXO_TC_ID\", \n",
    "    \"name\": \"FXO_TRADE_CAPTURE\",\n",
    "     \"measureIds\": [\n",
    "         \"NPV\",\n",
    "         \"FXD_Delta_Forward\",\n",
    "         \"FXD_Delta_Spot\",\n",
    "         \"FXD_Gamma\",\n",
    "         \"FXD_Theta\",\n",
    "         \"FXD_Rho_Domestic\",\n",
    "         \"FXD_Rho_Foreign\",\n",
    "         \"FXD_Vega\",         \n",
    "     ]\n",
    "}"
   ]
  },
  {
   "cell_type": "code",
   "execution_count": 253,
   "metadata": {},
   "outputs": [
    {
     "name": "stderr",
     "output_type": "stream",
     "text": [
      "C:\\Users\\jerom\\Anaconda3\\lib\\site-packages\\urllib3\\connectionpool.py:847: InsecureRequestWarning: Unverified HTTPS request is being made. Adding certificate verification is strongly advised. See: https://urllib3.readthedocs.io/en/latest/advanced-usage.html#ssl-warnings\n",
      "  InsecureRequestWarning)\n"
     ]
    }
   ],
   "source": [
    "val = post(url_measureGRoup,measureGroupTD)\n",
    "if(\"status\" in val.keys()):\n",
    "    print(val[\"detail\"])\n",
    "else:\n",
    "    id_measure_group = val[\"id\"]\n"
   ]
  },
  {
   "cell_type": "code",
   "execution_count": 254,
   "metadata": {},
   "outputs": [
    {
     "name": "stderr",
     "output_type": "stream",
     "text": [
      "C:\\Users\\jerom\\Anaconda3\\lib\\site-packages\\urllib3\\connectionpool.py:847: InsecureRequestWarning: Unverified HTTPS request is being made. Adding certificate verification is strongly advised. See: https://urllib3.readthedocs.io/en/latest/advanced-usage.html#ssl-warnings\n",
      "  InsecureRequestWarning)\n"
     ]
    },
    {
     "data": {
      "text/plain": [
       "{'id': '78b6a8220e4340f59a883d7a9d870218',\n",
       " 'name': 'FXO_TRADE_CAPTURE',\n",
       " 'measureIds': ['FXD_Delta_Forward',\n",
       "  'FXD_Delta_Spot',\n",
       "  'FXD_Gamma',\n",
       "  'FXD_Rho_Domestic',\n",
       "  'FXD_Rho_Foreign',\n",
       "  'FXD_Theta',\n",
       "  'FXD_Vega',\n",
       "  'NPV']}"
      ]
     },
     "execution_count": 254,
     "metadata": {},
     "output_type": "execute_result"
    }
   ],
   "source": [
    "get(url_measureGRoup+\"/\"+id_measure_group)"
   ]
  },
  {
   "cell_type": "code",
   "execution_count": 255,
   "metadata": {},
   "outputs": [],
   "source": [
    "#input needed : that need to be defined\n",
    "scenarioContexts =[\n",
    "    {\n",
    "      \"id\": \"base\",\n",
    "      \"measureGroupIds\": [\n",
    "        id_measure_group\n",
    "      ]\n",
    "    }\n",
    "]\n",
    "perimeter = {\"trade\" : {\"ids\": [\"FXOptionVanilla_1\"]}}"
   ]
  },
  {
   "cell_type": "code",
   "execution_count": 239,
   "metadata": {},
   "outputs": [
    {
     "name": "stderr",
     "output_type": "stream",
     "text": [
      "C:\\Users\\jerom\\Anaconda3\\lib\\site-packages\\urllib3\\connectionpool.py:847: InsecureRequestWarning: Unverified HTTPS request is being made. Adding certificate verification is strongly advised. See: https://urllib3.readthedocs.io/en/latest/advanced-usage.html#ssl-warnings\n",
      "  InsecureRequestWarning)\n",
      "C:\\Users\\jerom\\Anaconda3\\lib\\site-packages\\urllib3\\connectionpool.py:847: InsecureRequestWarning: Unverified HTTPS request is being made. Adding certificate verification is strongly advised. See: https://urllib3.readthedocs.io/en/latest/advanced-usage.html#ssl-warnings\n",
      "  InsecureRequestWarning)\n"
     ]
    }
   ],
   "source": [
    "resultJson = unitary(aod=\"2016-07-04\",perimeter=perimeter, scenarioContexts = scenarioContexts)"
   ]
  },
  {
   "cell_type": "code",
   "execution_count": 240,
   "metadata": {},
   "outputs": [
    {
     "data": {
      "text/plain": [
       "{'FXOptionVanilla_1': {'currencyId': '$id/USD',\n",
       "  'pricerId': {'library': 'FQPFXDerivative',\n",
       "   'pricingModel': 'Black Scholes',\n",
       "   'numericalMethod': 'Closed Formula'},\n",
       "  'scenarios': [{'id': 'base',\n",
       "    'entries': [{'id': '0',\n",
       "      'measures': {'FXD_Gamma': -1.2887125171278262e-07,\n",
       "       'FXD_Theta': -4.095281443522673e-08,\n",
       "       'NPV': -6.847514388329348e-13,\n",
       "       'FXD_Vega': -5.614785707219413e-10,\n",
       "       'FXD_Delta_Forward': -2.992289957233029e-10,\n",
       "       'FXD_Rho_Foreign': 1.829230563753891e-11,\n",
       "       'FXD_Delta_Spot': -2.992958381612741e-10,\n",
       "       'FXD_Rho_Domestic': 9.381223815569829e-07},\n",
       "      'properties': {},\n",
       "      'cashFlows': [],\n",
       "      'legs': []}]}]}}"
      ]
     },
     "execution_count": 240,
     "metadata": {},
     "output_type": "execute_result"
    }
   ],
   "source": [
    "resultJson"
   ]
  },
  {
   "cell_type": "code",
   "execution_count": 241,
   "metadata": {},
   "outputs": [
    {
     "name": "stderr",
     "output_type": "stream",
     "text": [
      "C:\\Users\\jerom\\Anaconda3\\lib\\site-packages\\urllib3\\connectionpool.py:847: InsecureRequestWarning: Unverified HTTPS request is being made. Adding certificate verification is strongly advised. See: https://urllib3.readthedocs.io/en/latest/advanced-usage.html#ssl-warnings\n",
      "  InsecureRequestWarning)\n"
     ]
    },
    {
     "data": {
      "text/plain": [
       "'data deleted'"
      ]
     },
     "execution_count": 241,
     "metadata": {},
     "output_type": "execute_result"
    }
   ],
   "source": [
    "delete(url_measureGRoup+\"/\"+id_measure_group)"
   ]
  },
  {
   "cell_type": "code",
   "execution_count": 242,
   "metadata": {},
   "outputs": [
    {
     "name": "stderr",
     "output_type": "stream",
     "text": [
      "C:\\Users\\jerom\\Anaconda3\\lib\\site-packages\\urllib3\\connectionpool.py:847: InsecureRequestWarning: Unverified HTTPS request is being made. Adding certificate verification is strongly advised. See: https://urllib3.readthedocs.io/en/latest/advanced-usage.html#ssl-warnings\n",
      "  InsecureRequestWarning)\n"
     ]
    },
    {
     "data": {
      "text/plain": [
       "[{'id': 'NPV', 'name': 'NPV', 'readOnly': True},\n",
       " {'id': 'Standard', 'name': 'Standard', 'readOnly': True},\n",
       " {'id': 'Advanced', 'name': 'Advanced', 'readOnly': True}]"
      ]
     },
     "execution_count": 242,
     "metadata": {},
     "output_type": "execute_result"
    }
   ],
   "source": [
    "get(url_measureGRoup)"
   ]
  },
  {
   "cell_type": "code",
   "execution_count": null,
   "metadata": {},
   "outputs": [],
   "source": []
  }
 ],
 "metadata": {
  "kernelspec": {
   "display_name": "Python 3",
   "language": "python",
   "name": "python3"
  },
  "language_info": {
   "codemirror_mode": {
    "name": "ipython",
    "version": 3
   },
   "file_extension": ".py",
   "mimetype": "text/x-python",
   "name": "python",
   "nbconvert_exporter": "python",
   "pygments_lexer": "ipython3",
   "version": "3.6.8"
  }
 },
 "nbformat": 4,
 "nbformat_minor": 2
}
